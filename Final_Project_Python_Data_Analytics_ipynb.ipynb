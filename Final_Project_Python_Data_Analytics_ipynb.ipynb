{
  "nbformat": 4,
  "nbformat_minor": 0,
  "metadata": {
    "colab": {
      "name": "Final Project Python Data Analytics ipynb",
      "provenance": [],
      "collapsed_sections": [],
      "authorship_tag": "ABX9TyNU2LpT/4CRHqlgHxC0FVqg",
      "include_colab_link": true
    },
    "kernelspec": {
      "name": "python3",
      "display_name": "Python 3"
    },
    "language_info": {
      "name": "python"
    }
  },
  "cells": [
    {
      "cell_type": "markdown",
      "metadata": {
        "id": "view-in-github",
        "colab_type": "text"
      },
      "source": [
        "<a href=\"https://colab.research.google.com/github/Tallyhound/Final-Project-Python-Data-Analytics-/blob/main/Final_Project_Python_Data_Analytics_ipynb.ipynb\" target=\"_parent\"><img src=\"https://colab.research.google.com/assets/colab-badge.svg\" alt=\"Open In Colab\"/></a>"
      ]
    },
    {
      "cell_type": "code",
      "source": [
        "#import libraries I think I might be using\n",
        "import pandas as pd\n",
        "from matplotlib import pyplot as plt\n",
        "import numpy as np\n",
        "import seaborn as sns\n",
        "import datetime\n",
        "\n",
        "#import the data\n",
        "df = pd.read_csv('https://raw.githubusercontent.com/Tallyhound/Final-Project-Python-Data-Analytics-/main/Gasoline_Retail_Prices_Weekly_Average_by_Region__Beginning_2007.csv')\n",
        "print(df)"
      ],
      "metadata": {
        "id": "hxKCGtzbDOHo",
        "colab": {
          "base_uri": "https://localhost:8080/"
        },
        "outputId": "d4cd3b3f-3330-4a96-918e-f6a459ef5057"
      },
      "execution_count": null,
      "outputs": [
        {
          "output_type": "stream",
          "name": "stdout",
          "text": [
            "           Date  New York State Average ($/gal)  Albany Average ($/gal)  \\\n",
            "0    05/09/2022                            4.44                    4.41   \n",
            "1    05/02/2022                            4.29                    4.25   \n",
            "2    04/25/2022                            4.22                    4.20   \n",
            "3    04/18/2022                            4.20                    4.17   \n",
            "4    04/11/2022                            4.27                    4.23   \n",
            "..          ...                             ...                     ...   \n",
            "754  11/26/2007                            3.28                    3.26   \n",
            "755  11/19/2007                            3.26                    3.24   \n",
            "756  11/12/2007                            3.21                    3.20   \n",
            "757  11/05/2007                            3.10                    3.09   \n",
            "758  10/29/2007                            2.98                    2.97   \n",
            "\n",
            "     Batavia Average ($/gal)  Binghamton Average ($/gal)  \\\n",
            "0                       4.29                        4.38   \n",
            "1                       4.23                        4.26   \n",
            "2                       4.22                        4.22   \n",
            "3                       4.24                        4.20   \n",
            "4                       4.30                        4.27   \n",
            "..                       ...                         ...   \n",
            "754                      NaN                        3.25   \n",
            "755                      NaN                        3.23   \n",
            "756                      NaN                        3.18   \n",
            "757                      NaN                        3.08   \n",
            "758                      NaN                        2.99   \n",
            "\n",
            "     Buffalo Average ($/gal)  Dutchess Average ($/gal)  \\\n",
            "0                       4.29                      4.53   \n",
            "1                       4.21                      4.39   \n",
            "2                       4.22                      4.34   \n",
            "3                       4.25                      4.29   \n",
            "4                       4.31                      4.36   \n",
            "..                       ...                       ...   \n",
            "754                     3.29                       NaN   \n",
            "755                     3.27                       NaN   \n",
            "756                     3.21                       NaN   \n",
            "757                     3.09                       NaN   \n",
            "758                     2.99                       NaN   \n",
            "\n",
            "     Elmira Average ($/gal)  Glens Falls Average ($/gal)  \\\n",
            "0                      4.39                         4.46   \n",
            "1                      4.24                         4.30   \n",
            "2                      4.18                         4.24   \n",
            "3                      4.14                         4.20   \n",
            "4                      4.20                         4.26   \n",
            "..                      ...                          ...   \n",
            "754                     NaN                          NaN   \n",
            "755                     NaN                          NaN   \n",
            "756                     NaN                          NaN   \n",
            "757                     NaN                          NaN   \n",
            "758                     NaN                          NaN   \n",
            "\n",
            "     Ithaca Average ($/gal)  Kingston Average ($/gal)  Nassau Average ($/gal)  \\\n",
            "0                      4.38                      4.37                    4.45   \n",
            "1                      4.24                      4.16                    4.24   \n",
            "2                      4.21                      4.08                    4.11   \n",
            "3                      4.20                      4.03                    4.07   \n",
            "4                      4.24                      4.10                    4.17   \n",
            "..                      ...                       ...                     ...   \n",
            "754                     NaN                       NaN                    3.27   \n",
            "755                     NaN                       NaN                    3.25   \n",
            "756                     NaN                       NaN                    3.18   \n",
            "757                     NaN                       NaN                    3.06   \n",
            "758                     NaN                       NaN                    2.95   \n",
            "\n",
            "     New York City Average ($/gal)  Rochester Average ($/gal)  \\\n",
            "0                             4.54                       4.37   \n",
            "1                             4.33                       4.29   \n",
            "2                             4.22                       4.28   \n",
            "3                             4.17                       4.28   \n",
            "4                             4.27                       4.33   \n",
            "..                             ...                        ...   \n",
            "754                           3.28                       3.28   \n",
            "755                           3.26                       3.26   \n",
            "756                           3.18                       3.20   \n",
            "757                           3.07                       3.09   \n",
            "758                           2.97                       3.00   \n",
            "\n",
            "     Syracuse Average ($/gal)  Utica Average ($/gal)  \\\n",
            "0                        4.37                   4.41   \n",
            "1                        4.26                   4.28   \n",
            "2                        4.24                   4.25   \n",
            "3                        4.22                   4.22   \n",
            "4                        4.27                   4.27   \n",
            "..                        ...                    ...   \n",
            "754                      3.29                   3.32   \n",
            "755                      3.28                   3.31   \n",
            "756                      3.22                   3.25   \n",
            "757                      3.10                   3.12   \n",
            "758                      2.99                   3.03   \n",
            "\n",
            "     Watertown Average ($/gal)  White Plains Average ($/gal)  \n",
            "0                         4.39                          4.57  \n",
            "1                         4.27                          4.42  \n",
            "2                         4.25                          4.36  \n",
            "3                         4.26                          4.33  \n",
            "4                         4.31                          4.40  \n",
            "..                         ...                           ...  \n",
            "754                        NaN                           NaN  \n",
            "755                        NaN                           NaN  \n",
            "756                        NaN                           NaN  \n",
            "757                        NaN                           NaN  \n",
            "758                        NaN                           NaN  \n",
            "\n",
            "[759 rows x 18 columns]\n"
          ]
        }
      ]
    },
    {
      "cell_type": "code",
      "source": [
        "#take a look at the data\n",
        "df.head()"
      ],
      "metadata": {
        "colab": {
          "base_uri": "https://localhost:8080/",
          "height": 340
        },
        "id": "6tQm7W777HjH",
        "outputId": "98f0dc32-cb05-4171-e324-b5e0680200c5"
      },
      "execution_count": null,
      "outputs": [
        {
          "output_type": "execute_result",
          "data": {
            "text/plain": [
              "         Date  New York State Average ($/gal)  Albany Average ($/gal)  \\\n",
              "0  05/09/2022                            4.44                    4.41   \n",
              "1  05/02/2022                            4.29                    4.25   \n",
              "2  04/25/2022                            4.22                    4.20   \n",
              "3  04/18/2022                            4.20                    4.17   \n",
              "4  04/11/2022                            4.27                    4.23   \n",
              "\n",
              "   Batavia Average ($/gal)  Binghamton Average ($/gal)  \\\n",
              "0                     4.29                        4.38   \n",
              "1                     4.23                        4.26   \n",
              "2                     4.22                        4.22   \n",
              "3                     4.24                        4.20   \n",
              "4                     4.30                        4.27   \n",
              "\n",
              "   Buffalo Average ($/gal)  Dutchess Average ($/gal)  Elmira Average ($/gal)  \\\n",
              "0                     4.29                      4.53                    4.39   \n",
              "1                     4.21                      4.39                    4.24   \n",
              "2                     4.22                      4.34                    4.18   \n",
              "3                     4.25                      4.29                    4.14   \n",
              "4                     4.31                      4.36                    4.20   \n",
              "\n",
              "   Glens Falls Average ($/gal)  Ithaca Average ($/gal)  \\\n",
              "0                         4.46                    4.38   \n",
              "1                         4.30                    4.24   \n",
              "2                         4.24                    4.21   \n",
              "3                         4.20                    4.20   \n",
              "4                         4.26                    4.24   \n",
              "\n",
              "   Kingston Average ($/gal)  Nassau Average ($/gal)  \\\n",
              "0                      4.37                    4.45   \n",
              "1                      4.16                    4.24   \n",
              "2                      4.08                    4.11   \n",
              "3                      4.03                    4.07   \n",
              "4                      4.10                    4.17   \n",
              "\n",
              "   New York City Average ($/gal)  Rochester Average ($/gal)  \\\n",
              "0                           4.54                       4.37   \n",
              "1                           4.33                       4.29   \n",
              "2                           4.22                       4.28   \n",
              "3                           4.17                       4.28   \n",
              "4                           4.27                       4.33   \n",
              "\n",
              "   Syracuse Average ($/gal)  Utica Average ($/gal)  Watertown Average ($/gal)  \\\n",
              "0                      4.37                   4.41                       4.39   \n",
              "1                      4.26                   4.28                       4.27   \n",
              "2                      4.24                   4.25                       4.25   \n",
              "3                      4.22                   4.22                       4.26   \n",
              "4                      4.27                   4.27                       4.31   \n",
              "\n",
              "   White Plains Average ($/gal)  \n",
              "0                          4.57  \n",
              "1                          4.42  \n",
              "2                          4.36  \n",
              "3                          4.33  \n",
              "4                          4.40  "
            ],
            "text/html": [
              "\n",
              "  <div id=\"df-aefd759b-57e9-4bc5-a18f-9c67cf0af0a8\">\n",
              "    <div class=\"colab-df-container\">\n",
              "      <div>\n",
              "<style scoped>\n",
              "    .dataframe tbody tr th:only-of-type {\n",
              "        vertical-align: middle;\n",
              "    }\n",
              "\n",
              "    .dataframe tbody tr th {\n",
              "        vertical-align: top;\n",
              "    }\n",
              "\n",
              "    .dataframe thead th {\n",
              "        text-align: right;\n",
              "    }\n",
              "</style>\n",
              "<table border=\"1\" class=\"dataframe\">\n",
              "  <thead>\n",
              "    <tr style=\"text-align: right;\">\n",
              "      <th></th>\n",
              "      <th>Date</th>\n",
              "      <th>New York State Average ($/gal)</th>\n",
              "      <th>Albany Average ($/gal)</th>\n",
              "      <th>Batavia Average ($/gal)</th>\n",
              "      <th>Binghamton Average ($/gal)</th>\n",
              "      <th>Buffalo Average ($/gal)</th>\n",
              "      <th>Dutchess Average ($/gal)</th>\n",
              "      <th>Elmira Average ($/gal)</th>\n",
              "      <th>Glens Falls Average ($/gal)</th>\n",
              "      <th>Ithaca Average ($/gal)</th>\n",
              "      <th>Kingston Average ($/gal)</th>\n",
              "      <th>Nassau Average ($/gal)</th>\n",
              "      <th>New York City Average ($/gal)</th>\n",
              "      <th>Rochester Average ($/gal)</th>\n",
              "      <th>Syracuse Average ($/gal)</th>\n",
              "      <th>Utica Average ($/gal)</th>\n",
              "      <th>Watertown Average ($/gal)</th>\n",
              "      <th>White Plains Average ($/gal)</th>\n",
              "    </tr>\n",
              "  </thead>\n",
              "  <tbody>\n",
              "    <tr>\n",
              "      <th>0</th>\n",
              "      <td>05/09/2022</td>\n",
              "      <td>4.44</td>\n",
              "      <td>4.41</td>\n",
              "      <td>4.29</td>\n",
              "      <td>4.38</td>\n",
              "      <td>4.29</td>\n",
              "      <td>4.53</td>\n",
              "      <td>4.39</td>\n",
              "      <td>4.46</td>\n",
              "      <td>4.38</td>\n",
              "      <td>4.37</td>\n",
              "      <td>4.45</td>\n",
              "      <td>4.54</td>\n",
              "      <td>4.37</td>\n",
              "      <td>4.37</td>\n",
              "      <td>4.41</td>\n",
              "      <td>4.39</td>\n",
              "      <td>4.57</td>\n",
              "    </tr>\n",
              "    <tr>\n",
              "      <th>1</th>\n",
              "      <td>05/02/2022</td>\n",
              "      <td>4.29</td>\n",
              "      <td>4.25</td>\n",
              "      <td>4.23</td>\n",
              "      <td>4.26</td>\n",
              "      <td>4.21</td>\n",
              "      <td>4.39</td>\n",
              "      <td>4.24</td>\n",
              "      <td>4.30</td>\n",
              "      <td>4.24</td>\n",
              "      <td>4.16</td>\n",
              "      <td>4.24</td>\n",
              "      <td>4.33</td>\n",
              "      <td>4.29</td>\n",
              "      <td>4.26</td>\n",
              "      <td>4.28</td>\n",
              "      <td>4.27</td>\n",
              "      <td>4.42</td>\n",
              "    </tr>\n",
              "    <tr>\n",
              "      <th>2</th>\n",
              "      <td>04/25/2022</td>\n",
              "      <td>4.22</td>\n",
              "      <td>4.20</td>\n",
              "      <td>4.22</td>\n",
              "      <td>4.22</td>\n",
              "      <td>4.22</td>\n",
              "      <td>4.34</td>\n",
              "      <td>4.18</td>\n",
              "      <td>4.24</td>\n",
              "      <td>4.21</td>\n",
              "      <td>4.08</td>\n",
              "      <td>4.11</td>\n",
              "      <td>4.22</td>\n",
              "      <td>4.28</td>\n",
              "      <td>4.24</td>\n",
              "      <td>4.25</td>\n",
              "      <td>4.25</td>\n",
              "      <td>4.36</td>\n",
              "    </tr>\n",
              "    <tr>\n",
              "      <th>3</th>\n",
              "      <td>04/18/2022</td>\n",
              "      <td>4.20</td>\n",
              "      <td>4.17</td>\n",
              "      <td>4.24</td>\n",
              "      <td>4.20</td>\n",
              "      <td>4.25</td>\n",
              "      <td>4.29</td>\n",
              "      <td>4.14</td>\n",
              "      <td>4.20</td>\n",
              "      <td>4.20</td>\n",
              "      <td>4.03</td>\n",
              "      <td>4.07</td>\n",
              "      <td>4.17</td>\n",
              "      <td>4.28</td>\n",
              "      <td>4.22</td>\n",
              "      <td>4.22</td>\n",
              "      <td>4.26</td>\n",
              "      <td>4.33</td>\n",
              "    </tr>\n",
              "    <tr>\n",
              "      <th>4</th>\n",
              "      <td>04/11/2022</td>\n",
              "      <td>4.27</td>\n",
              "      <td>4.23</td>\n",
              "      <td>4.30</td>\n",
              "      <td>4.27</td>\n",
              "      <td>4.31</td>\n",
              "      <td>4.36</td>\n",
              "      <td>4.20</td>\n",
              "      <td>4.26</td>\n",
              "      <td>4.24</td>\n",
              "      <td>4.10</td>\n",
              "      <td>4.17</td>\n",
              "      <td>4.27</td>\n",
              "      <td>4.33</td>\n",
              "      <td>4.27</td>\n",
              "      <td>4.27</td>\n",
              "      <td>4.31</td>\n",
              "      <td>4.40</td>\n",
              "    </tr>\n",
              "  </tbody>\n",
              "</table>\n",
              "</div>\n",
              "      <button class=\"colab-df-convert\" onclick=\"convertToInteractive('df-aefd759b-57e9-4bc5-a18f-9c67cf0af0a8')\"\n",
              "              title=\"Convert this dataframe to an interactive table.\"\n",
              "              style=\"display:none;\">\n",
              "        \n",
              "  <svg xmlns=\"http://www.w3.org/2000/svg\" height=\"24px\"viewBox=\"0 0 24 24\"\n",
              "       width=\"24px\">\n",
              "    <path d=\"M0 0h24v24H0V0z\" fill=\"none\"/>\n",
              "    <path d=\"M18.56 5.44l.94 2.06.94-2.06 2.06-.94-2.06-.94-.94-2.06-.94 2.06-2.06.94zm-11 1L8.5 8.5l.94-2.06 2.06-.94-2.06-.94L8.5 2.5l-.94 2.06-2.06.94zm10 10l.94 2.06.94-2.06 2.06-.94-2.06-.94-.94-2.06-.94 2.06-2.06.94z\"/><path d=\"M17.41 7.96l-1.37-1.37c-.4-.4-.92-.59-1.43-.59-.52 0-1.04.2-1.43.59L10.3 9.45l-7.72 7.72c-.78.78-.78 2.05 0 2.83L4 21.41c.39.39.9.59 1.41.59.51 0 1.02-.2 1.41-.59l7.78-7.78 2.81-2.81c.8-.78.8-2.07 0-2.86zM5.41 20L4 18.59l7.72-7.72 1.47 1.35L5.41 20z\"/>\n",
              "  </svg>\n",
              "      </button>\n",
              "      \n",
              "  <style>\n",
              "    .colab-df-container {\n",
              "      display:flex;\n",
              "      flex-wrap:wrap;\n",
              "      gap: 12px;\n",
              "    }\n",
              "\n",
              "    .colab-df-convert {\n",
              "      background-color: #E8F0FE;\n",
              "      border: none;\n",
              "      border-radius: 50%;\n",
              "      cursor: pointer;\n",
              "      display: none;\n",
              "      fill: #1967D2;\n",
              "      height: 32px;\n",
              "      padding: 0 0 0 0;\n",
              "      width: 32px;\n",
              "    }\n",
              "\n",
              "    .colab-df-convert:hover {\n",
              "      background-color: #E2EBFA;\n",
              "      box-shadow: 0px 1px 2px rgba(60, 64, 67, 0.3), 0px 1px 3px 1px rgba(60, 64, 67, 0.15);\n",
              "      fill: #174EA6;\n",
              "    }\n",
              "\n",
              "    [theme=dark] .colab-df-convert {\n",
              "      background-color: #3B4455;\n",
              "      fill: #D2E3FC;\n",
              "    }\n",
              "\n",
              "    [theme=dark] .colab-df-convert:hover {\n",
              "      background-color: #434B5C;\n",
              "      box-shadow: 0px 1px 3px 1px rgba(0, 0, 0, 0.15);\n",
              "      filter: drop-shadow(0px 1px 2px rgba(0, 0, 0, 0.3));\n",
              "      fill: #FFFFFF;\n",
              "    }\n",
              "  </style>\n",
              "\n",
              "      <script>\n",
              "        const buttonEl =\n",
              "          document.querySelector('#df-aefd759b-57e9-4bc5-a18f-9c67cf0af0a8 button.colab-df-convert');\n",
              "        buttonEl.style.display =\n",
              "          google.colab.kernel.accessAllowed ? 'block' : 'none';\n",
              "\n",
              "        async function convertToInteractive(key) {\n",
              "          const element = document.querySelector('#df-aefd759b-57e9-4bc5-a18f-9c67cf0af0a8');\n",
              "          const dataTable =\n",
              "            await google.colab.kernel.invokeFunction('convertToInteractive',\n",
              "                                                     [key], {});\n",
              "          if (!dataTable) return;\n",
              "\n",
              "          const docLinkHtml = 'Like what you see? Visit the ' +\n",
              "            '<a target=\"_blank\" href=https://colab.research.google.com/notebooks/data_table.ipynb>data table notebook</a>'\n",
              "            + ' to learn more about interactive tables.';\n",
              "          element.innerHTML = '';\n",
              "          dataTable['output_type'] = 'display_data';\n",
              "          await google.colab.output.renderOutput(dataTable, element);\n",
              "          const docLink = document.createElement('div');\n",
              "          docLink.innerHTML = docLinkHtml;\n",
              "          element.appendChild(docLink);\n",
              "        }\n",
              "      </script>\n",
              "    </div>\n",
              "  </div>\n",
              "  "
            ]
          },
          "metadata": {},
          "execution_count": 59
        }
      ]
    },
    {
      "cell_type": "code",
      "source": [
        "#looking for null values\n",
        "df.isnull()\n"
      ],
      "metadata": {
        "colab": {
          "base_uri": "https://localhost:8080/",
          "height": 557
        },
        "id": "Rzv5eSdlQv3U",
        "outputId": "f8e4960f-c60b-4d9e-fda0-b243ccc58cf3"
      },
      "execution_count": null,
      "outputs": [
        {
          "output_type": "execute_result",
          "data": {
            "text/plain": [
              "      Date  New York State Average ($/gal)  Albany Average ($/gal)  \\\n",
              "0    False                           False                   False   \n",
              "1    False                           False                   False   \n",
              "2    False                           False                   False   \n",
              "3    False                           False                   False   \n",
              "4    False                           False                   False   \n",
              "..     ...                             ...                     ...   \n",
              "754  False                           False                   False   \n",
              "755  False                           False                   False   \n",
              "756  False                           False                   False   \n",
              "757  False                           False                   False   \n",
              "758  False                           False                   False   \n",
              "\n",
              "     Batavia Average ($/gal)  Binghamton Average ($/gal)  \\\n",
              "0                      False                       False   \n",
              "1                      False                       False   \n",
              "2                      False                       False   \n",
              "3                      False                       False   \n",
              "4                      False                       False   \n",
              "..                       ...                         ...   \n",
              "754                     True                       False   \n",
              "755                     True                       False   \n",
              "756                     True                       False   \n",
              "757                     True                       False   \n",
              "758                     True                       False   \n",
              "\n",
              "     Buffalo Average ($/gal)  Dutchess Average ($/gal)  \\\n",
              "0                      False                     False   \n",
              "1                      False                     False   \n",
              "2                      False                     False   \n",
              "3                      False                     False   \n",
              "4                      False                     False   \n",
              "..                       ...                       ...   \n",
              "754                    False                      True   \n",
              "755                    False                      True   \n",
              "756                    False                      True   \n",
              "757                    False                      True   \n",
              "758                    False                      True   \n",
              "\n",
              "     Elmira Average ($/gal)  Glens Falls Average ($/gal)  \\\n",
              "0                     False                        False   \n",
              "1                     False                        False   \n",
              "2                     False                        False   \n",
              "3                     False                        False   \n",
              "4                     False                        False   \n",
              "..                      ...                          ...   \n",
              "754                    True                         True   \n",
              "755                    True                         True   \n",
              "756                    True                         True   \n",
              "757                    True                         True   \n",
              "758                    True                         True   \n",
              "\n",
              "     Ithaca Average ($/gal)  Kingston Average ($/gal)  Nassau Average ($/gal)  \\\n",
              "0                     False                     False                   False   \n",
              "1                     False                     False                   False   \n",
              "2                     False                     False                   False   \n",
              "3                     False                     False                   False   \n",
              "4                     False                     False                   False   \n",
              "..                      ...                       ...                     ...   \n",
              "754                    True                      True                   False   \n",
              "755                    True                      True                   False   \n",
              "756                    True                      True                   False   \n",
              "757                    True                      True                   False   \n",
              "758                    True                      True                   False   \n",
              "\n",
              "     New York City Average ($/gal)  Rochester Average ($/gal)  \\\n",
              "0                            False                      False   \n",
              "1                            False                      False   \n",
              "2                            False                      False   \n",
              "3                            False                      False   \n",
              "4                            False                      False   \n",
              "..                             ...                        ...   \n",
              "754                          False                      False   \n",
              "755                          False                      False   \n",
              "756                          False                      False   \n",
              "757                          False                      False   \n",
              "758                          False                      False   \n",
              "\n",
              "     Syracuse Average ($/gal)  Utica Average ($/gal)  \\\n",
              "0                       False                  False   \n",
              "1                       False                  False   \n",
              "2                       False                  False   \n",
              "3                       False                  False   \n",
              "4                       False                  False   \n",
              "..                        ...                    ...   \n",
              "754                     False                  False   \n",
              "755                     False                  False   \n",
              "756                     False                  False   \n",
              "757                     False                  False   \n",
              "758                     False                  False   \n",
              "\n",
              "     Watertown Average ($/gal)  White Plains Average ($/gal)  \n",
              "0                        False                         False  \n",
              "1                        False                         False  \n",
              "2                        False                         False  \n",
              "3                        False                         False  \n",
              "4                        False                         False  \n",
              "..                         ...                           ...  \n",
              "754                       True                          True  \n",
              "755                       True                          True  \n",
              "756                       True                          True  \n",
              "757                       True                          True  \n",
              "758                       True                          True  \n",
              "\n",
              "[759 rows x 18 columns]"
            ],
            "text/html": [
              "\n",
              "  <div id=\"df-bdacc6f2-c2a0-4dce-81ba-25f18a9406f8\">\n",
              "    <div class=\"colab-df-container\">\n",
              "      <div>\n",
              "<style scoped>\n",
              "    .dataframe tbody tr th:only-of-type {\n",
              "        vertical-align: middle;\n",
              "    }\n",
              "\n",
              "    .dataframe tbody tr th {\n",
              "        vertical-align: top;\n",
              "    }\n",
              "\n",
              "    .dataframe thead th {\n",
              "        text-align: right;\n",
              "    }\n",
              "</style>\n",
              "<table border=\"1\" class=\"dataframe\">\n",
              "  <thead>\n",
              "    <tr style=\"text-align: right;\">\n",
              "      <th></th>\n",
              "      <th>Date</th>\n",
              "      <th>New York State Average ($/gal)</th>\n",
              "      <th>Albany Average ($/gal)</th>\n",
              "      <th>Batavia Average ($/gal)</th>\n",
              "      <th>Binghamton Average ($/gal)</th>\n",
              "      <th>Buffalo Average ($/gal)</th>\n",
              "      <th>Dutchess Average ($/gal)</th>\n",
              "      <th>Elmira Average ($/gal)</th>\n",
              "      <th>Glens Falls Average ($/gal)</th>\n",
              "      <th>Ithaca Average ($/gal)</th>\n",
              "      <th>Kingston Average ($/gal)</th>\n",
              "      <th>Nassau Average ($/gal)</th>\n",
              "      <th>New York City Average ($/gal)</th>\n",
              "      <th>Rochester Average ($/gal)</th>\n",
              "      <th>Syracuse Average ($/gal)</th>\n",
              "      <th>Utica Average ($/gal)</th>\n",
              "      <th>Watertown Average ($/gal)</th>\n",
              "      <th>White Plains Average ($/gal)</th>\n",
              "    </tr>\n",
              "  </thead>\n",
              "  <tbody>\n",
              "    <tr>\n",
              "      <th>0</th>\n",
              "      <td>False</td>\n",
              "      <td>False</td>\n",
              "      <td>False</td>\n",
              "      <td>False</td>\n",
              "      <td>False</td>\n",
              "      <td>False</td>\n",
              "      <td>False</td>\n",
              "      <td>False</td>\n",
              "      <td>False</td>\n",
              "      <td>False</td>\n",
              "      <td>False</td>\n",
              "      <td>False</td>\n",
              "      <td>False</td>\n",
              "      <td>False</td>\n",
              "      <td>False</td>\n",
              "      <td>False</td>\n",
              "      <td>False</td>\n",
              "      <td>False</td>\n",
              "    </tr>\n",
              "    <tr>\n",
              "      <th>1</th>\n",
              "      <td>False</td>\n",
              "      <td>False</td>\n",
              "      <td>False</td>\n",
              "      <td>False</td>\n",
              "      <td>False</td>\n",
              "      <td>False</td>\n",
              "      <td>False</td>\n",
              "      <td>False</td>\n",
              "      <td>False</td>\n",
              "      <td>False</td>\n",
              "      <td>False</td>\n",
              "      <td>False</td>\n",
              "      <td>False</td>\n",
              "      <td>False</td>\n",
              "      <td>False</td>\n",
              "      <td>False</td>\n",
              "      <td>False</td>\n",
              "      <td>False</td>\n",
              "    </tr>\n",
              "    <tr>\n",
              "      <th>2</th>\n",
              "      <td>False</td>\n",
              "      <td>False</td>\n",
              "      <td>False</td>\n",
              "      <td>False</td>\n",
              "      <td>False</td>\n",
              "      <td>False</td>\n",
              "      <td>False</td>\n",
              "      <td>False</td>\n",
              "      <td>False</td>\n",
              "      <td>False</td>\n",
              "      <td>False</td>\n",
              "      <td>False</td>\n",
              "      <td>False</td>\n",
              "      <td>False</td>\n",
              "      <td>False</td>\n",
              "      <td>False</td>\n",
              "      <td>False</td>\n",
              "      <td>False</td>\n",
              "    </tr>\n",
              "    <tr>\n",
              "      <th>3</th>\n",
              "      <td>False</td>\n",
              "      <td>False</td>\n",
              "      <td>False</td>\n",
              "      <td>False</td>\n",
              "      <td>False</td>\n",
              "      <td>False</td>\n",
              "      <td>False</td>\n",
              "      <td>False</td>\n",
              "      <td>False</td>\n",
              "      <td>False</td>\n",
              "      <td>False</td>\n",
              "      <td>False</td>\n",
              "      <td>False</td>\n",
              "      <td>False</td>\n",
              "      <td>False</td>\n",
              "      <td>False</td>\n",
              "      <td>False</td>\n",
              "      <td>False</td>\n",
              "    </tr>\n",
              "    <tr>\n",
              "      <th>4</th>\n",
              "      <td>False</td>\n",
              "      <td>False</td>\n",
              "      <td>False</td>\n",
              "      <td>False</td>\n",
              "      <td>False</td>\n",
              "      <td>False</td>\n",
              "      <td>False</td>\n",
              "      <td>False</td>\n",
              "      <td>False</td>\n",
              "      <td>False</td>\n",
              "      <td>False</td>\n",
              "      <td>False</td>\n",
              "      <td>False</td>\n",
              "      <td>False</td>\n",
              "      <td>False</td>\n",
              "      <td>False</td>\n",
              "      <td>False</td>\n",
              "      <td>False</td>\n",
              "    </tr>\n",
              "    <tr>\n",
              "      <th>...</th>\n",
              "      <td>...</td>\n",
              "      <td>...</td>\n",
              "      <td>...</td>\n",
              "      <td>...</td>\n",
              "      <td>...</td>\n",
              "      <td>...</td>\n",
              "      <td>...</td>\n",
              "      <td>...</td>\n",
              "      <td>...</td>\n",
              "      <td>...</td>\n",
              "      <td>...</td>\n",
              "      <td>...</td>\n",
              "      <td>...</td>\n",
              "      <td>...</td>\n",
              "      <td>...</td>\n",
              "      <td>...</td>\n",
              "      <td>...</td>\n",
              "      <td>...</td>\n",
              "    </tr>\n",
              "    <tr>\n",
              "      <th>754</th>\n",
              "      <td>False</td>\n",
              "      <td>False</td>\n",
              "      <td>False</td>\n",
              "      <td>True</td>\n",
              "      <td>False</td>\n",
              "      <td>False</td>\n",
              "      <td>True</td>\n",
              "      <td>True</td>\n",
              "      <td>True</td>\n",
              "      <td>True</td>\n",
              "      <td>True</td>\n",
              "      <td>False</td>\n",
              "      <td>False</td>\n",
              "      <td>False</td>\n",
              "      <td>False</td>\n",
              "      <td>False</td>\n",
              "      <td>True</td>\n",
              "      <td>True</td>\n",
              "    </tr>\n",
              "    <tr>\n",
              "      <th>755</th>\n",
              "      <td>False</td>\n",
              "      <td>False</td>\n",
              "      <td>False</td>\n",
              "      <td>True</td>\n",
              "      <td>False</td>\n",
              "      <td>False</td>\n",
              "      <td>True</td>\n",
              "      <td>True</td>\n",
              "      <td>True</td>\n",
              "      <td>True</td>\n",
              "      <td>True</td>\n",
              "      <td>False</td>\n",
              "      <td>False</td>\n",
              "      <td>False</td>\n",
              "      <td>False</td>\n",
              "      <td>False</td>\n",
              "      <td>True</td>\n",
              "      <td>True</td>\n",
              "    </tr>\n",
              "    <tr>\n",
              "      <th>756</th>\n",
              "      <td>False</td>\n",
              "      <td>False</td>\n",
              "      <td>False</td>\n",
              "      <td>True</td>\n",
              "      <td>False</td>\n",
              "      <td>False</td>\n",
              "      <td>True</td>\n",
              "      <td>True</td>\n",
              "      <td>True</td>\n",
              "      <td>True</td>\n",
              "      <td>True</td>\n",
              "      <td>False</td>\n",
              "      <td>False</td>\n",
              "      <td>False</td>\n",
              "      <td>False</td>\n",
              "      <td>False</td>\n",
              "      <td>True</td>\n",
              "      <td>True</td>\n",
              "    </tr>\n",
              "    <tr>\n",
              "      <th>757</th>\n",
              "      <td>False</td>\n",
              "      <td>False</td>\n",
              "      <td>False</td>\n",
              "      <td>True</td>\n",
              "      <td>False</td>\n",
              "      <td>False</td>\n",
              "      <td>True</td>\n",
              "      <td>True</td>\n",
              "      <td>True</td>\n",
              "      <td>True</td>\n",
              "      <td>True</td>\n",
              "      <td>False</td>\n",
              "      <td>False</td>\n",
              "      <td>False</td>\n",
              "      <td>False</td>\n",
              "      <td>False</td>\n",
              "      <td>True</td>\n",
              "      <td>True</td>\n",
              "    </tr>\n",
              "    <tr>\n",
              "      <th>758</th>\n",
              "      <td>False</td>\n",
              "      <td>False</td>\n",
              "      <td>False</td>\n",
              "      <td>True</td>\n",
              "      <td>False</td>\n",
              "      <td>False</td>\n",
              "      <td>True</td>\n",
              "      <td>True</td>\n",
              "      <td>True</td>\n",
              "      <td>True</td>\n",
              "      <td>True</td>\n",
              "      <td>False</td>\n",
              "      <td>False</td>\n",
              "      <td>False</td>\n",
              "      <td>False</td>\n",
              "      <td>False</td>\n",
              "      <td>True</td>\n",
              "      <td>True</td>\n",
              "    </tr>\n",
              "  </tbody>\n",
              "</table>\n",
              "<p>759 rows × 18 columns</p>\n",
              "</div>\n",
              "      <button class=\"colab-df-convert\" onclick=\"convertToInteractive('df-bdacc6f2-c2a0-4dce-81ba-25f18a9406f8')\"\n",
              "              title=\"Convert this dataframe to an interactive table.\"\n",
              "              style=\"display:none;\">\n",
              "        \n",
              "  <svg xmlns=\"http://www.w3.org/2000/svg\" height=\"24px\"viewBox=\"0 0 24 24\"\n",
              "       width=\"24px\">\n",
              "    <path d=\"M0 0h24v24H0V0z\" fill=\"none\"/>\n",
              "    <path d=\"M18.56 5.44l.94 2.06.94-2.06 2.06-.94-2.06-.94-.94-2.06-.94 2.06-2.06.94zm-11 1L8.5 8.5l.94-2.06 2.06-.94-2.06-.94L8.5 2.5l-.94 2.06-2.06.94zm10 10l.94 2.06.94-2.06 2.06-.94-2.06-.94-.94-2.06-.94 2.06-2.06.94z\"/><path d=\"M17.41 7.96l-1.37-1.37c-.4-.4-.92-.59-1.43-.59-.52 0-1.04.2-1.43.59L10.3 9.45l-7.72 7.72c-.78.78-.78 2.05 0 2.83L4 21.41c.39.39.9.59 1.41.59.51 0 1.02-.2 1.41-.59l7.78-7.78 2.81-2.81c.8-.78.8-2.07 0-2.86zM5.41 20L4 18.59l7.72-7.72 1.47 1.35L5.41 20z\"/>\n",
              "  </svg>\n",
              "      </button>\n",
              "      \n",
              "  <style>\n",
              "    .colab-df-container {\n",
              "      display:flex;\n",
              "      flex-wrap:wrap;\n",
              "      gap: 12px;\n",
              "    }\n",
              "\n",
              "    .colab-df-convert {\n",
              "      background-color: #E8F0FE;\n",
              "      border: none;\n",
              "      border-radius: 50%;\n",
              "      cursor: pointer;\n",
              "      display: none;\n",
              "      fill: #1967D2;\n",
              "      height: 32px;\n",
              "      padding: 0 0 0 0;\n",
              "      width: 32px;\n",
              "    }\n",
              "\n",
              "    .colab-df-convert:hover {\n",
              "      background-color: #E2EBFA;\n",
              "      box-shadow: 0px 1px 2px rgba(60, 64, 67, 0.3), 0px 1px 3px 1px rgba(60, 64, 67, 0.15);\n",
              "      fill: #174EA6;\n",
              "    }\n",
              "\n",
              "    [theme=dark] .colab-df-convert {\n",
              "      background-color: #3B4455;\n",
              "      fill: #D2E3FC;\n",
              "    }\n",
              "\n",
              "    [theme=dark] .colab-df-convert:hover {\n",
              "      background-color: #434B5C;\n",
              "      box-shadow: 0px 1px 3px 1px rgba(0, 0, 0, 0.15);\n",
              "      filter: drop-shadow(0px 1px 2px rgba(0, 0, 0, 0.3));\n",
              "      fill: #FFFFFF;\n",
              "    }\n",
              "  </style>\n",
              "\n",
              "      <script>\n",
              "        const buttonEl =\n",
              "          document.querySelector('#df-bdacc6f2-c2a0-4dce-81ba-25f18a9406f8 button.colab-df-convert');\n",
              "        buttonEl.style.display =\n",
              "          google.colab.kernel.accessAllowed ? 'block' : 'none';\n",
              "\n",
              "        async function convertToInteractive(key) {\n",
              "          const element = document.querySelector('#df-bdacc6f2-c2a0-4dce-81ba-25f18a9406f8');\n",
              "          const dataTable =\n",
              "            await google.colab.kernel.invokeFunction('convertToInteractive',\n",
              "                                                     [key], {});\n",
              "          if (!dataTable) return;\n",
              "\n",
              "          const docLinkHtml = 'Like what you see? Visit the ' +\n",
              "            '<a target=\"_blank\" href=https://colab.research.google.com/notebooks/data_table.ipynb>data table notebook</a>'\n",
              "            + ' to learn more about interactive tables.';\n",
              "          element.innerHTML = '';\n",
              "          dataTable['output_type'] = 'display_data';\n",
              "          await google.colab.output.renderOutput(dataTable, element);\n",
              "          const docLink = document.createElement('div');\n",
              "          docLink.innerHTML = docLinkHtml;\n",
              "          element.appendChild(docLink);\n",
              "        }\n",
              "      </script>\n",
              "    </div>\n",
              "  </div>\n",
              "  "
            ]
          },
          "metadata": {},
          "execution_count": 60
        }
      ]
    },
    {
      "cell_type": "code",
      "source": [
        "#count of null values\n",
        "df.isnull().sum()"
      ],
      "metadata": {
        "colab": {
          "base_uri": "https://localhost:8080/"
        },
        "id": "8cXHonipQ0V8",
        "outputId": "cc666d84-d9bc-4d64-864d-1f750a10a7e4"
      },
      "execution_count": null,
      "outputs": [
        {
          "output_type": "execute_result",
          "data": {
            "text/plain": [
              "Date                                0\n",
              "New York State Average ($/gal)      0\n",
              "Albany Average ($/gal)              0\n",
              "Batavia Average ($/gal)           481\n",
              "Binghamton Average ($/gal)          0\n",
              "Buffalo Average ($/gal)             0\n",
              "Dutchess Average ($/gal)          473\n",
              "Elmira Average ($/gal)            473\n",
              "Glens Falls Average ($/gal)       473\n",
              "Ithaca Average ($/gal)            473\n",
              "Kingston Average ($/gal)          473\n",
              "Nassau Average ($/gal)              0\n",
              "New York City Average ($/gal)       0\n",
              "Rochester Average ($/gal)           0\n",
              "Syracuse Average ($/gal)            0\n",
              "Utica Average ($/gal)               0\n",
              "Watertown Average ($/gal)         473\n",
              "White Plains Average ($/gal)      473\n",
              "dtype: int64"
            ]
          },
          "metadata": {},
          "execution_count": 61
        }
      ]
    },
    {
      "cell_type": "code",
      "source": [
        "#getting df info\n",
        "df.info()"
      ],
      "metadata": {
        "colab": {
          "base_uri": "https://localhost:8080/"
        },
        "id": "8sAoNhMkNeUt",
        "outputId": "3dda0e5f-2d04-439d-ddf0-fb15ff7ddc00"
      },
      "execution_count": null,
      "outputs": [
        {
          "output_type": "stream",
          "name": "stdout",
          "text": [
            "<class 'pandas.core.frame.DataFrame'>\n",
            "RangeIndex: 759 entries, 0 to 758\n",
            "Data columns (total 18 columns):\n",
            " #   Column                          Non-Null Count  Dtype  \n",
            "---  ------                          --------------  -----  \n",
            " 0   Date                            759 non-null    object \n",
            " 1   New York State Average ($/gal)  759 non-null    float64\n",
            " 2   Albany Average ($/gal)          759 non-null    float64\n",
            " 3   Batavia Average ($/gal)         278 non-null    float64\n",
            " 4   Binghamton Average ($/gal)      759 non-null    float64\n",
            " 5   Buffalo Average ($/gal)         759 non-null    float64\n",
            " 6   Dutchess Average ($/gal)        286 non-null    float64\n",
            " 7   Elmira Average ($/gal)          286 non-null    float64\n",
            " 8   Glens Falls Average ($/gal)     286 non-null    float64\n",
            " 9   Ithaca Average ($/gal)          286 non-null    float64\n",
            " 10  Kingston Average ($/gal)        286 non-null    float64\n",
            " 11  Nassau Average ($/gal)          759 non-null    float64\n",
            " 12  New York City Average ($/gal)   759 non-null    float64\n",
            " 13  Rochester Average ($/gal)       759 non-null    float64\n",
            " 14  Syracuse Average ($/gal)        759 non-null    float64\n",
            " 15  Utica Average ($/gal)           759 non-null    float64\n",
            " 16  Watertown Average ($/gal)       286 non-null    float64\n",
            " 17  White Plains Average ($/gal)    286 non-null    float64\n",
            "dtypes: float64(17), object(1)\n",
            "memory usage: 106.9+ KB\n"
          ]
        }
      ]
    },
    {
      "cell_type": "code",
      "source": [
        "#parsing date column to date/time\n",
        "df = pd.read_csv('https://raw.githubusercontent.com/Tallyhound/Final-Project-Python-Data-Analytics-/main/Gasoline_Retail_Prices_Weekly_Average_by_Region__Beginning_2007.csv', parse_dates=['Date'])\n",
        "df.info()"
      ],
      "metadata": {
        "colab": {
          "base_uri": "https://localhost:8080/"
        },
        "id": "SXVZXAyikEpb",
        "outputId": "544a94a0-8f00-4f17-db8a-74955e6876b5"
      },
      "execution_count": null,
      "outputs": [
        {
          "output_type": "stream",
          "name": "stdout",
          "text": [
            "<class 'pandas.core.frame.DataFrame'>\n",
            "RangeIndex: 759 entries, 0 to 758\n",
            "Data columns (total 18 columns):\n",
            " #   Column                          Non-Null Count  Dtype         \n",
            "---  ------                          --------------  -----         \n",
            " 0   Date                            759 non-null    datetime64[ns]\n",
            " 1   New York State Average ($/gal)  759 non-null    float64       \n",
            " 2   Albany Average ($/gal)          759 non-null    float64       \n",
            " 3   Batavia Average ($/gal)         278 non-null    float64       \n",
            " 4   Binghamton Average ($/gal)      759 non-null    float64       \n",
            " 5   Buffalo Average ($/gal)         759 non-null    float64       \n",
            " 6   Dutchess Average ($/gal)        286 non-null    float64       \n",
            " 7   Elmira Average ($/gal)          286 non-null    float64       \n",
            " 8   Glens Falls Average ($/gal)     286 non-null    float64       \n",
            " 9   Ithaca Average ($/gal)          286 non-null    float64       \n",
            " 10  Kingston Average ($/gal)        286 non-null    float64       \n",
            " 11  Nassau Average ($/gal)          759 non-null    float64       \n",
            " 12  New York City Average ($/gal)   759 non-null    float64       \n",
            " 13  Rochester Average ($/gal)       759 non-null    float64       \n",
            " 14  Syracuse Average ($/gal)        759 non-null    float64       \n",
            " 15  Utica Average ($/gal)           759 non-null    float64       \n",
            " 16  Watertown Average ($/gal)       286 non-null    float64       \n",
            " 17  White Plains Average ($/gal)    286 non-null    float64       \n",
            "dtypes: datetime64[ns](1), float64(17)\n",
            "memory usage: 106.9 KB\n"
          ]
        }
      ]
    },
    {
      "cell_type": "code",
      "source": [
        "#dropping rows with null values \n",
        "df = df.drop(index=list(range(228, 759)))"
      ],
      "metadata": {
        "id": "UT4M-HLOkBbA"
      },
      "execution_count": null,
      "outputs": []
    },
    {
      "cell_type": "code",
      "source": [
        "#checking that all null values removed\n",
        "df.isnull().sum()"
      ],
      "metadata": {
        "colab": {
          "base_uri": "https://localhost:8080/"
        },
        "id": "sg67e7u4m-dG",
        "outputId": "6d337e3c-74d9-4c30-e20a-a4869dcae20d"
      },
      "execution_count": null,
      "outputs": [
        {
          "output_type": "execute_result",
          "data": {
            "text/plain": [
              "Date                              0\n",
              "New York State Average ($/gal)    0\n",
              "Albany Average ($/gal)            0\n",
              "Batavia Average ($/gal)           0\n",
              "Binghamton Average ($/gal)        0\n",
              "Buffalo Average ($/gal)           0\n",
              "Dutchess Average ($/gal)          0\n",
              "Elmira Average ($/gal)            0\n",
              "Glens Falls Average ($/gal)       0\n",
              "Ithaca Average ($/gal)            0\n",
              "Kingston Average ($/gal)          0\n",
              "Nassau Average ($/gal)            0\n",
              "New York City Average ($/gal)     0\n",
              "Rochester Average ($/gal)         0\n",
              "Syracuse Average ($/gal)          0\n",
              "Utica Average ($/gal)             0\n",
              "Watertown Average ($/gal)         0\n",
              "White Plains Average ($/gal)      0\n",
              "dtype: int64"
            ]
          },
          "metadata": {},
          "execution_count": 65
        }
      ]
    },
    {
      "cell_type": "code",
      "source": [
        "#looking at columns\n",
        "print(df.columns)"
      ],
      "metadata": {
        "colab": {
          "base_uri": "https://localhost:8080/"
        },
        "id": "oALEIJJdX9ui",
        "outputId": "881a483f-8038-4d47-b728-6bc57fbbc34f"
      },
      "execution_count": null,
      "outputs": [
        {
          "output_type": "stream",
          "name": "stdout",
          "text": [
            "Index(['Date', 'New York State Average ($/gal)', 'Albany Average ($/gal)',\n",
            "       'Batavia Average ($/gal)', 'Binghamton Average ($/gal)',\n",
            "       'Buffalo Average ($/gal)', 'Dutchess Average ($/gal)',\n",
            "       'Elmira Average ($/gal)', 'Glens Falls Average ($/gal)',\n",
            "       'Ithaca Average ($/gal)', 'Kingston Average ($/gal)',\n",
            "       'Nassau Average ($/gal)', 'New York City Average ($/gal)',\n",
            "       'Rochester Average ($/gal)', 'Syracuse Average ($/gal)',\n",
            "       'Utica Average ($/gal)', 'Watertown Average ($/gal)',\n",
            "       'White Plains Average ($/gal)'],\n",
            "      dtype='object')\n"
          ]
        }
      ]
    },
    {
      "cell_type": "code",
      "source": [
        "#renaming columns to shorter names without symbols\n",
        "df.rename(columns ={'New York State Average ($/gal)':'NY State', 'Albany Average ($/gal)': 'Albany', 'Batavia Average ($/gal)':'Batavia', 'Binghamton Average ($/gal)':'Binghamton', 'Buffalo Average ($/gal)':'Buffalo', 'Dutchess Average ($/gal)':'Dutchess', 'Elmira Average ($/gal)':'Elmira', 'Glens Falls Average ($/gal)':'Glens Falls', 'Ithaca Average ($/gal)':'Ithaca', 'Kingston Average ($/gal)':'Kingston', 'Nassau Average ($/gal)':'Nassau', 'New York City Average ($/gal)':'NYC', 'Rochester Average ($/gal)':'Rochester', 'Syracuse Average ($/gal)':'Syracuse', 'Utica Average ($/gal)':'Utica', 'Watertown Average ($/gal)':'Watertown', 'White Plains Average ($/gal)':'White Plains'}, inplace = True)\n",
        "print(df)\n",
        "print(df.columns)"
      ],
      "metadata": {
        "colab": {
          "base_uri": "https://localhost:8080/"
        },
        "id": "B3m-ejz00qNX",
        "outputId": "e0183ba6-90b0-434f-8793-71fe78328d45"
      },
      "execution_count": null,
      "outputs": [
        {
          "output_type": "stream",
          "name": "stdout",
          "text": [
            "          Date  NY State  Albany  Batavia  Binghamton  Buffalo  Dutchess  \\\n",
            "0   2022-05-09      4.44    4.41     4.29        4.38     4.29      4.53   \n",
            "1   2022-05-02      4.29    4.25     4.23        4.26     4.21      4.39   \n",
            "2   2022-04-25      4.22    4.20     4.22        4.22     4.22      4.34   \n",
            "3   2022-04-18      4.20    4.17     4.24        4.20     4.25      4.29   \n",
            "4   2022-04-11      4.27    4.23     4.30        4.27     4.31      4.36   \n",
            "..         ...       ...     ...      ...         ...      ...       ...   \n",
            "223 2018-01-29      2.73    2.64     2.64        2.71     2.66      2.74   \n",
            "224 2018-01-22      2.69    2.60     2.61        2.65     2.64      2.70   \n",
            "225 2018-01-15      2.67    2.59     2.61        2.63     2.63      2.69   \n",
            "226 2018-01-08      2.66    2.58     2.60        2.62     2.62      2.68   \n",
            "227 2018-01-01      2.63    2.53     2.59        2.59     2.62      2.68   \n",
            "\n",
            "     Elmira  Glens Falls  Ithaca  Kingston  Nassau   NYC  Rochester  Syracuse  \\\n",
            "0      4.39         4.46    4.38      4.37    4.45  4.54       4.37      4.37   \n",
            "1      4.24         4.30    4.24      4.16    4.24  4.33       4.29      4.26   \n",
            "2      4.18         4.24    4.21      4.08    4.11  4.22       4.28      4.24   \n",
            "3      4.14         4.20    4.20      4.03    4.07  4.17       4.28      4.22   \n",
            "4      4.20         4.26    4.24      4.10    4.17  4.27       4.33      4.27   \n",
            "..      ...          ...     ...       ...     ...   ...        ...       ...   \n",
            "223    2.69         2.68    2.69      2.68    2.75  2.81       2.67      2.68   \n",
            "224    2.63         2.64    2.65      2.62    2.69  2.78       2.63      2.62   \n",
            "225    2.61         2.64    2.64      2.60    2.66  2.75       2.62      2.61   \n",
            "226    2.56         2.64    2.61      2.58    2.63  2.74       2.59      2.59   \n",
            "227    2.50         2.59    2.58      2.54    2.60  2.72       2.55      2.53   \n",
            "\n",
            "     Utica  Watertown  White Plains  \n",
            "0     4.41       4.39          4.57  \n",
            "1     4.28       4.27          4.42  \n",
            "2     4.25       4.25          4.36  \n",
            "3     4.22       4.26          4.33  \n",
            "4     4.27       4.31          4.40  \n",
            "..     ...        ...           ...  \n",
            "223   2.72       2.74          2.84  \n",
            "224   2.66       2.69          2.81  \n",
            "225   2.65       2.68          2.79  \n",
            "226   2.64       2.67          2.79  \n",
            "227   2.60       2.63          2.77  \n",
            "\n",
            "[228 rows x 18 columns]\n",
            "Index(['Date', 'NY State', 'Albany', 'Batavia', 'Binghamton', 'Buffalo',\n",
            "       'Dutchess', 'Elmira', 'Glens Falls', 'Ithaca', 'Kingston', 'Nassau',\n",
            "       'NYC', 'Rochester', 'Syracuse', 'Utica', 'Watertown', 'White Plains'],\n",
            "      dtype='object')\n"
          ]
        }
      ]
    },
    {
      "cell_type": "code",
      "source": [
        "#regrouping into regions for possible comparisions by regions later\n",
        "#grouping by regions-capregion\n",
        "dfcapregion = df[['Albany', 'Glens Falls' ]]\n",
        "print(dfcapregion)"
      ],
      "metadata": {
        "colab": {
          "base_uri": "https://localhost:8080/"
        },
        "id": "ubvX6UqUaYQS",
        "outputId": "bd64e1de-6a77-4dd5-e452-6160f193b311"
      },
      "execution_count": null,
      "outputs": [
        {
          "output_type": "stream",
          "name": "stdout",
          "text": [
            "     Albany  Glens Falls\n",
            "0      4.41         4.46\n",
            "1      4.25         4.30\n",
            "2      4.20         4.24\n",
            "3      4.17         4.20\n",
            "4      4.23         4.26\n",
            "..      ...          ...\n",
            "223    2.64         2.68\n",
            "224    2.60         2.64\n",
            "225    2.59         2.64\n",
            "226    2.58         2.64\n",
            "227    2.53         2.59\n",
            "\n",
            "[228 rows x 2 columns]\n"
          ]
        }
      ]
    },
    {
      "cell_type": "code",
      "source": [
        "#grouping by regions-centralny\n",
        "dfcentralny =df[['Syracuse']]\n",
        "print(dfcentralny)"
      ],
      "metadata": {
        "colab": {
          "base_uri": "https://localhost:8080/"
        },
        "id": "gLHj9y-5a_f8",
        "outputId": "148bd473-487e-4919-c9b0-b76d941b59d2"
      },
      "execution_count": null,
      "outputs": [
        {
          "output_type": "stream",
          "name": "stdout",
          "text": [
            "     Syracuse\n",
            "0        4.37\n",
            "1        4.26\n",
            "2        4.24\n",
            "3        4.22\n",
            "4        4.27\n",
            "..        ...\n",
            "223      2.68\n",
            "224      2.62\n",
            "225      2.61\n",
            "226      2.59\n",
            "227      2.53\n",
            "\n",
            "[228 rows x 1 columns]\n"
          ]
        }
      ]
    },
    {
      "cell_type": "code",
      "source": [
        "#grouping by regions-fingerlakes\n",
        "dffingerlakes = df[['Batavia', 'Rochester']]\n",
        "print(dffingerlakes)"
      ],
      "metadata": {
        "colab": {
          "base_uri": "https://localhost:8080/"
        },
        "id": "MdgTGrTsbdwh",
        "outputId": "e7a77d02-251a-4a59-d795-ca873a2472f8"
      },
      "execution_count": null,
      "outputs": [
        {
          "output_type": "stream",
          "name": "stdout",
          "text": [
            "     Batavia  Rochester\n",
            "0       4.29       4.37\n",
            "1       4.23       4.29\n",
            "2       4.22       4.28\n",
            "3       4.24       4.28\n",
            "4       4.30       4.33\n",
            "..       ...        ...\n",
            "223     2.64       2.67\n",
            "224     2.61       2.63\n",
            "225     2.61       2.62\n",
            "226     2.60       2.59\n",
            "227     2.59       2.55\n",
            "\n",
            "[228 rows x 2 columns]\n"
          ]
        }
      ]
    },
    {
      "cell_type": "code",
      "source": [
        "#grouping by regions-midhudson\n",
        "dfmidhudson = df[['White Plains', 'Kingston']]\n",
        "print(dfmidhudson)\n"
      ],
      "metadata": {
        "colab": {
          "base_uri": "https://localhost:8080/"
        },
        "id": "wjaCih7Yb5Ge",
        "outputId": "e53a0fd6-55b0-498d-ec4b-b70ad17f2e2d"
      },
      "execution_count": null,
      "outputs": [
        {
          "output_type": "stream",
          "name": "stdout",
          "text": [
            "     White Plains  Kingston\n",
            "0            4.57      4.37\n",
            "1            4.42      4.16\n",
            "2            4.36      4.08\n",
            "3            4.33      4.03\n",
            "4            4.40      4.10\n",
            "..            ...       ...\n",
            "223          2.84      2.68\n",
            "224          2.81      2.62\n",
            "225          2.79      2.60\n",
            "226          2.79      2.58\n",
            "227          2.77      2.54\n",
            "\n",
            "[228 rows x 2 columns]\n"
          ]
        }
      ]
    },
    {
      "cell_type": "code",
      "source": [
        "#grouping by regions-mohawk\n",
        "dfmohawk = df[['Utica']]\n",
        "print(dfmohawk)"
      ],
      "metadata": {
        "colab": {
          "base_uri": "https://localhost:8080/"
        },
        "id": "tHK2MzTmcxx5",
        "outputId": "789c0fc4-4985-4c3a-8200-c9ede410d815"
      },
      "execution_count": null,
      "outputs": [
        {
          "output_type": "stream",
          "name": "stdout",
          "text": [
            "     Utica\n",
            "0     4.41\n",
            "1     4.28\n",
            "2     4.25\n",
            "3     4.22\n",
            "4     4.27\n",
            "..     ...\n",
            "223   2.72\n",
            "224   2.66\n",
            "225   2.65\n",
            "226   2.64\n",
            "227   2.60\n",
            "\n",
            "[228 rows x 1 columns]\n"
          ]
        }
      ]
    },
    {
      "cell_type": "code",
      "source": [
        "#grouping by regions-nyc and long island\n",
        "dfnyc =df[['NYC', 'Nassau']]\n",
        "print(dfnyc)"
      ],
      "metadata": {
        "colab": {
          "base_uri": "https://localhost:8080/"
        },
        "id": "8SQOfkMfdEDZ",
        "outputId": "3c788c5a-736c-42f3-cc96-2bca1e2aaad0"
      },
      "execution_count": null,
      "outputs": [
        {
          "output_type": "stream",
          "name": "stdout",
          "text": [
            "      NYC  Nassau\n",
            "0    4.54    4.45\n",
            "1    4.33    4.24\n",
            "2    4.22    4.11\n",
            "3    4.17    4.07\n",
            "4    4.27    4.17\n",
            "..    ...     ...\n",
            "223  2.81    2.75\n",
            "224  2.78    2.69\n",
            "225  2.75    2.66\n",
            "226  2.74    2.63\n",
            "227  2.72    2.60\n",
            "\n",
            "[228 rows x 2 columns]\n"
          ]
        }
      ]
    },
    {
      "cell_type": "code",
      "source": [
        "#grouping by region-north country\n",
        "dfnorth =df[['Watertown']]\n",
        "print(dfnorth)"
      ],
      "metadata": {
        "colab": {
          "base_uri": "https://localhost:8080/"
        },
        "id": "5aR4Sp_vdQkX",
        "outputId": "846995fd-0e72-4664-f3ea-d3c32c264b7c"
      },
      "execution_count": null,
      "outputs": [
        {
          "output_type": "stream",
          "name": "stdout",
          "text": [
            "     Watertown\n",
            "0         4.39\n",
            "1         4.27\n",
            "2         4.25\n",
            "3         4.26\n",
            "4         4.31\n",
            "..         ...\n",
            "223       2.74\n",
            "224       2.69\n",
            "225       2.68\n",
            "226       2.67\n",
            "227       2.63\n",
            "\n",
            "[228 rows x 1 columns]\n"
          ]
        }
      ]
    },
    {
      "cell_type": "code",
      "source": [
        "#grouping by region-southerntier\n",
        "dfsouthern = df[['Binghamton', 'Elmira', 'Ithaca']]\n",
        "print(dfsouthern)"
      ],
      "metadata": {
        "colab": {
          "base_uri": "https://localhost:8080/"
        },
        "id": "MxXOp2uPdja4",
        "outputId": "f2e00ed4-d357-4af0-ce05-2250a40c547d"
      },
      "execution_count": null,
      "outputs": [
        {
          "output_type": "stream",
          "name": "stdout",
          "text": [
            "     Binghamton  Elmira  Ithaca\n",
            "0          4.38    4.39    4.38\n",
            "1          4.26    4.24    4.24\n",
            "2          4.22    4.18    4.21\n",
            "3          4.20    4.14    4.20\n",
            "4          4.27    4.20    4.24\n",
            "..          ...     ...     ...\n",
            "223        2.71    2.69    2.69\n",
            "224        2.65    2.63    2.65\n",
            "225        2.63    2.61    2.64\n",
            "226        2.62    2.56    2.61\n",
            "227        2.59    2.50    2.58\n",
            "\n",
            "[228 rows x 3 columns]\n"
          ]
        }
      ]
    },
    {
      "cell_type": "code",
      "source": [
        "#distribution of data using the average of nys for each week in a distplot\n",
        "sns.distplot(df['NY State'], color=\"purple\", hist_kws=dict(edgecolor=\"black\", linewidth=3,))\n",
        "plt.title('NYS Average Weekly Gas Prices', fontsize=16)\n",
        "plt.xlabel('Price Per Gallon', fontsize=13)\n",
        "plt.ylabel('Frequency', fontsize=13)\n"
      ],
      "metadata": {
        "colab": {
          "base_uri": "https://localhost:8080/",
          "height": 372
        },
        "id": "N8zsY943JEhc",
        "outputId": "2bf823c4-7f23-4286-b635-605400cfc3c6"
      },
      "execution_count": null,
      "outputs": [
        {
          "output_type": "stream",
          "name": "stderr",
          "text": [
            "/usr/local/lib/python3.7/dist-packages/seaborn/distributions.py:2619: FutureWarning: `distplot` is a deprecated function and will be removed in a future version. Please adapt your code to use either `displot` (a figure-level function with similar flexibility) or `histplot` (an axes-level function for histograms).\n",
            "  warnings.warn(msg, FutureWarning)\n"
          ]
        },
        {
          "output_type": "execute_result",
          "data": {
            "text/plain": [
              "Text(0, 0.5, 'Frequency')"
            ]
          },
          "metadata": {},
          "execution_count": 76
        },
        {
          "output_type": "display_data",
          "data": {
            "text/plain": [
              "<Figure size 432x288 with 1 Axes>"
            ],
            "image/png": "[encoded data removed]"
          },
          "metadata": {
            "needs_background": "light"
          }
        }
      ]
    },
    {
      "cell_type": "code",
      "source": [
        "#Checking for outliers\n",
        "sns.boxplot(x=df[\"NY State\"])"
      ],
      "metadata": {
        "colab": {
          "base_uri": "https://localhost:8080/",
          "height": 296
        },
        "id": "Wstqq-BWOhZG",
        "outputId": "0b36acc0-2b7e-4677-c1f5-a1c76fd19e10"
      },
      "execution_count": null,
      "outputs": [
        {
          "output_type": "execute_result",
          "data": {
            "text/plain": [
              "<matplotlib.axes._subplots.AxesSubplot at 0x7f1f45a01ed0>"
            ]
          },
          "metadata": {},
          "execution_count": 77
        },
        {
          "output_type": "display_data",
          "data": {
            "text/plain": [
              "<Figure size 432x288 with 1 Axes>"
            ],
            "image/png": "[encoded data removed]"
          },
          "metadata": {
            "needs_background": "light"
          }
        }
      ]
    },
    {
      "cell_type": "code",
      "source": [
        "#Frequency of values in all columns\n",
        "print( df[['NY State','Albany','Batavia','Binghamton','Buffalo','Dutchess','Elmira','Glens Falls','Ithaca','Kingston','Nassau','NYC','Rochester','Syracuse','Utica','Watertown','White Plains']].value_counts())"
      ],
      "metadata": {
        "colab": {
          "base_uri": "https://localhost:8080/"
        },
        "id": "kWl0tPqxbsFr",
        "outputId": "b12e8997-2264-4bf6-a0b8-91f312838346"
      },
      "execution_count": null,
      "outputs": [
        {
          "output_type": "stream",
          "name": "stdout",
          "text": [
            "NY State  Albany  Batavia  Binghamton  Buffalo  Dutchess  Elmira  Glens Falls  Ithaca  Kingston  Nassau  NYC   Rochester  Syracuse  Utica  Watertown  White Plains\n",
            "2.16      2.09    2.22     2.16        2.21     2.24      1.94    2.09         2.13    2.10      2.06    2.27  2.19       2.06      2.11   2.12       2.32            1\n",
            "2.94      2.82    2.83     2.89        2.85     3.00      2.87    2.83         2.89    2.88      2.98    3.07  2.87       2.87      2.89   2.93       3.06            1\n",
            "2.95      2.83    2.93     2.91        2.98     3.00      2.91    2.85         2.86    2.88      2.93    3.03  2.91       2.85      2.91   2.99       3.09            1\n",
            "          2.84    2.86     2.92        2.86     2.98      2.88    2.85         2.91    2.89      2.99    3.05  2.88       2.92      2.94   2.96       3.06            1\n",
            "2.96      2.82    2.84     2.88        2.89     3.02      2.84    2.83         2.88    2.88      3.01    3.07  2.89       2.87      2.90   2.96       3.09            1\n",
            "                                                                                                                                                                     ..\n",
            "2.69      2.62    2.66     2.62        2.62     2.75      2.69    2.64         2.66    2.62      2.65    2.76  2.67       2.59      2.62   2.67       2.83            1\n",
            "          2.63    2.65     2.62        2.63     2.75      2.69    2.67         2.66    2.62      2.66    2.76  2.67       2.59      2.63   2.66       2.83            1\n",
            "                  2.66     2.61        2.65     2.76      2.62    2.64         2.66    2.61      2.66    2.77  2.69       2.60      2.64   2.68       2.83            1\n",
            "                  2.67     2.64        2.66     2.75      2.69    2.71         2.67    2.59      2.64    2.78  2.67       2.58      2.67   2.65       2.83            1\n",
            "4.44      4.43    4.36     4.42        4.38     4.52      4.39    4.46         4.42    4.41      4.44    4.48  4.40       4.41      4.40   4.40       4.68            1\n",
            "Length: 228, dtype: int64\n"
          ]
        }
      ]
    },
    {
      "cell_type": "code",
      "source": [
        "#histogram\n",
        "plt.hist(df['NY State'], bins=12, color =\"skyblue\", ec=\"red\", lw =5)\n",
        "plt.xlabel('Price Per Gallon', fontsize=12, color=\"red\")\n",
        "plt.ylabel('Frequency', fontsize=12, color='red')\n",
        "plt.title('Weekly Gas Prices in NY State 1/2018-5/2022', color =\"red\")\n",
        "plt.show()"
      ],
      "metadata": {
        "colab": {
          "base_uri": "https://localhost:8080/",
          "height": 298
        },
        "id": "FoTyxY4abHtK",
        "outputId": "3d3acad7-882b-4e00-ad54-97f4a1cca3c0"
      },
      "execution_count": null,
      "outputs": [
        {
          "output_type": "display_data",
          "data": {
            "text/plain": [
              "<Figure size 432x288 with 1 Axes>"
            ],
            "image/png": "[encoded data removed]"
          },
          "metadata": {
            "needs_background": "light"
          }
        }
      ]
    },
    {
      "cell_type": "code",
      "source": [
        "means =df.mean()\n",
        "means =means.round(2)\n",
        "print(means)"
      ],
      "metadata": {
        "colab": {
          "base_uri": "https://localhost:8080/"
        },
        "id": "hW9GplHZFiHp",
        "outputId": "5151c443-a386-426e-a4a3-b0f5ee5da2d6"
      },
      "execution_count": null,
      "outputs": [
        {
          "output_type": "stream",
          "name": "stdout",
          "text": [
            "NY State        2.86\n",
            "Albany          2.80\n",
            "Batavia         2.82\n",
            "Binghamton      2.81\n",
            "Buffalo         2.82\n",
            "Dutchess        2.91\n",
            "Elmira          2.77\n",
            "Glens Falls     2.84\n",
            "Ithaca          2.81\n",
            "Kingston        2.78\n",
            "Nassau          2.83\n",
            "NYC             2.94\n",
            "Rochester       2.83\n",
            "Syracuse        2.79\n",
            "Utica           2.86\n",
            "Watertown       2.87\n",
            "White Plains    2.98\n",
            "dtype: float64\n"
          ]
        },
        {
          "output_type": "stream",
          "name": "stderr",
          "text": [
            "/usr/local/lib/python3.7/dist-packages/ipykernel_launcher.py:1: FutureWarning: DataFrame.mean and DataFrame.median with numeric_only=None will include datetime64 and datetime64tz columns in a future version.\n",
            "  \"\"\"Entry point for launching an IPython kernel.\n"
          ]
        }
      ]
    },
    {
      "cell_type": "code",
      "source": [
        "#median\n",
        "df.describe()"
      ],
      "metadata": {
        "colab": {
          "base_uri": "https://localhost:8080/",
          "height": 382
        },
        "id": "cHsWyNIoI_24",
        "outputId": "07a80e64-af12-40d9-f837-41059f57cad4"
      },
      "execution_count": null,
      "outputs": [
        {
          "output_type": "execute_result",
          "data": {
            "text/plain": [
              "         NY State      Albany     Batavia  Binghamton     Buffalo    Dutchess  \\\n",
              "count  228.000000  228.000000  228.000000  228.000000  228.000000  228.000000   \n",
              "mean     2.862500    2.801228    2.823509    2.813509    2.823333    2.909956   \n",
              "std      0.482593    0.480741    0.474378    0.492931    0.477246    0.474395   \n",
              "min      2.160000    2.090000    2.190000    2.120000    2.180000    2.240000   \n",
              "25%      2.577500    2.510000    2.560000    2.507500    2.547500    2.660000   \n",
              "50%      2.800000    2.695000    2.770000    2.745000    2.770000    2.845000   \n",
              "75%      3.032500    2.942500    2.970000    2.972500    3.000000    3.070000   \n",
              "max      4.440000    4.430000    4.360000    4.420000    4.390000    4.530000   \n",
              "\n",
              "           Elmira  Glens Falls      Ithaca    Kingston      Nassau  \\\n",
              "count  228.000000   228.000000  228.000000  228.000000  228.000000   \n",
              "mean     2.773860     2.842412    2.814956    2.783333    2.833289   \n",
              "std      0.503871     0.481931    0.491878    0.474749    0.494577   \n",
              "min      1.940000     2.090000    2.110000    2.090000    2.060000   \n",
              "25%      2.467500     2.547500    2.532500    2.500000    2.530000   \n",
              "50%      2.740000     2.750000    2.735000    2.725000    2.790000   \n",
              "75%      2.960000     2.975000    2.960000    2.935000    3.040000   \n",
              "max      4.390000     4.460000    4.420000    4.410000    4.450000   \n",
              "\n",
              "              NYC   Rochester    Syracuse       Utica   Watertown  \\\n",
              "count  228.000000  228.000000  228.000000  228.000000  228.000000   \n",
              "mean     2.936930    2.833026    2.793465    2.860000    2.873289   \n",
              "std      0.481281    0.487644    0.498558    0.479446    0.480867   \n",
              "min      2.230000    2.190000    2.060000    2.110000    2.120000   \n",
              "25%      2.640000    2.537500    2.480000    2.577500    2.577500   \n",
              "50%      2.890000    2.765000    2.720000    2.780000    2.790000   \n",
              "75%      3.132500    2.980000    2.957500    3.017500    3.060000   \n",
              "max      4.540000    4.400000    4.410000    4.410000    4.400000   \n",
              "\n",
              "       White Plains  \n",
              "count    228.000000  \n",
              "mean       2.984561  \n",
              "std        0.475813  \n",
              "min        2.320000  \n",
              "25%        2.737500  \n",
              "50%        2.925000  \n",
              "75%        3.162500  \n",
              "max        4.680000  "
            ],
            "text/html": [
              "\n",
              "  <div id=\"df-cb8ceff1-9e3b-48ce-8cbb-223a7eec8f5a\">\n",
              "    <div class=\"colab-df-container\">\n",
              "      <div>\n",
              "<style scoped>\n",
              "    .dataframe tbody tr th:only-of-type {\n",
              "        vertical-align: middle;\n",
              "    }\n",
              "\n",
              "    .dataframe tbody tr th {\n",
              "        vertical-align: top;\n",
              "    }\n",
              "\n",
              "    .dataframe thead th {\n",
              "        text-align: right;\n",
              "    }\n",
              "</style>\n",
              "<table border=\"1\" class=\"dataframe\">\n",
              "  <thead>\n",
              "    <tr style=\"text-align: right;\">\n",
              "      <th></th>\n",
              "      <th>NY State</th>\n",
              "      <th>Albany</th>\n",
              "      <th>Batavia</th>\n",
              "      <th>Binghamton</th>\n",
              "      <th>Buffalo</th>\n",
              "      <th>Dutchess</th>\n",
              "      <th>Elmira</th>\n",
              "      <th>Glens Falls</th>\n",
              "      <th>Ithaca</th>\n",
              "      <th>Kingston</th>\n",
              "      <th>Nassau</th>\n",
              "      <th>NYC</th>\n",
              "      <th>Rochester</th>\n",
              "      <th>Syracuse</th>\n",
              "      <th>Utica</th>\n",
              "      <th>Watertown</th>\n",
              "      <th>White Plains</th>\n",
              "    </tr>\n",
              "  </thead>\n",
              "  <tbody>\n",
              "    <tr>\n",
              "      <th>count</th>\n",
              "      <td>228.000000</td>\n",
              "      <td>228.000000</td>\n",
              "      <td>228.000000</td>\n",
              "      <td>228.000000</td>\n",
              "      <td>228.000000</td>\n",
              "      <td>228.000000</td>\n",
              "      <td>228.000000</td>\n",
              "      <td>228.000000</td>\n",
              "      <td>228.000000</td>\n",
              "      <td>228.000000</td>\n",
              "      <td>228.000000</td>\n",
              "      <td>228.000000</td>\n",
              "      <td>228.000000</td>\n",
              "      <td>228.000000</td>\n",
              "      <td>228.000000</td>\n",
              "      <td>228.000000</td>\n",
              "      <td>228.000000</td>\n",
              "    </tr>\n",
              "    <tr>\n",
              "      <th>mean</th>\n",
              "      <td>2.862500</td>\n",
              "      <td>2.801228</td>\n",
              "      <td>2.823509</td>\n",
              "      <td>2.813509</td>\n",
              "      <td>2.823333</td>\n",
              "      <td>2.909956</td>\n",
              "      <td>2.773860</td>\n",
              "      <td>2.842412</td>\n",
              "      <td>2.814956</td>\n",
              "      <td>2.783333</td>\n",
              "      <td>2.833289</td>\n",
              "      <td>2.936930</td>\n",
              "      <td>2.833026</td>\n",
              "      <td>2.793465</td>\n",
              "      <td>2.860000</td>\n",
              "      <td>2.873289</td>\n",
              "      <td>2.984561</td>\n",
              "    </tr>\n",
              "    <tr>\n",
              "      <th>std</th>\n",
              "      <td>0.482593</td>\n",
              "      <td>0.480741</td>\n",
              "      <td>0.474378</td>\n",
              "      <td>0.492931</td>\n",
              "      <td>0.477246</td>\n",
              "      <td>0.474395</td>\n",
              "      <td>0.503871</td>\n",
              "      <td>0.481931</td>\n",
              "      <td>0.491878</td>\n",
              "      <td>0.474749</td>\n",
              "      <td>0.494577</td>\n",
              "      <td>0.481281</td>\n",
              "      <td>0.487644</td>\n",
              "      <td>0.498558</td>\n",
              "      <td>0.479446</td>\n",
              "      <td>0.480867</td>\n",
              "      <td>0.475813</td>\n",
              "    </tr>\n",
              "    <tr>\n",
              "      <th>min</th>\n",
              "      <td>2.160000</td>\n",
              "      <td>2.090000</td>\n",
              "      <td>2.190000</td>\n",
              "      <td>2.120000</td>\n",
              "      <td>2.180000</td>\n",
              "      <td>2.240000</td>\n",
              "      <td>1.940000</td>\n",
              "      <td>2.090000</td>\n",
              "      <td>2.110000</td>\n",
              "      <td>2.090000</td>\n",
              "      <td>2.060000</td>\n",
              "      <td>2.230000</td>\n",
              "      <td>2.190000</td>\n",
              "      <td>2.060000</td>\n",
              "      <td>2.110000</td>\n",
              "      <td>2.120000</td>\n",
              "      <td>2.320000</td>\n",
              "    </tr>\n",
              "    <tr>\n",
              "      <th>25%</th>\n",
              "      <td>2.577500</td>\n",
              "      <td>2.510000</td>\n",
              "      <td>2.560000</td>\n",
              "      <td>2.507500</td>\n",
              "      <td>2.547500</td>\n",
              "      <td>2.660000</td>\n",
              "      <td>2.467500</td>\n",
              "      <td>2.547500</td>\n",
              "      <td>2.532500</td>\n",
              "      <td>2.500000</td>\n",
              "      <td>2.530000</td>\n",
              "      <td>2.640000</td>\n",
              "      <td>2.537500</td>\n",
              "      <td>2.480000</td>\n",
              "      <td>2.577500</td>\n",
              "      <td>2.577500</td>\n",
              "      <td>2.737500</td>\n",
              "    </tr>\n",
              "    <tr>\n",
              "      <th>50%</th>\n",
              "      <td>2.800000</td>\n",
              "      <td>2.695000</td>\n",
              "      <td>2.770000</td>\n",
              "      <td>2.745000</td>\n",
              "      <td>2.770000</td>\n",
              "      <td>2.845000</td>\n",
              "      <td>2.740000</td>\n",
              "      <td>2.750000</td>\n",
              "      <td>2.735000</td>\n",
              "      <td>2.725000</td>\n",
              "      <td>2.790000</td>\n",
              "      <td>2.890000</td>\n",
              "      <td>2.765000</td>\n",
              "      <td>2.720000</td>\n",
              "      <td>2.780000</td>\n",
              "      <td>2.790000</td>\n",
              "      <td>2.925000</td>\n",
              "    </tr>\n",
              "    <tr>\n",
              "      <th>75%</th>\n",
              "      <td>3.032500</td>\n",
              "      <td>2.942500</td>\n",
              "      <td>2.970000</td>\n",
              "      <td>2.972500</td>\n",
              "      <td>3.000000</td>\n",
              "      <td>3.070000</td>\n",
              "      <td>2.960000</td>\n",
              "      <td>2.975000</td>\n",
              "      <td>2.960000</td>\n",
              "      <td>2.935000</td>\n",
              "      <td>3.040000</td>\n",
              "      <td>3.132500</td>\n",
              "      <td>2.980000</td>\n",
              "      <td>2.957500</td>\n",
              "      <td>3.017500</td>\n",
              "      <td>3.060000</td>\n",
              "      <td>3.162500</td>\n",
              "    </tr>\n",
              "    <tr>\n",
              "      <th>max</th>\n",
              "      <td>4.440000</td>\n",
              "      <td>4.430000</td>\n",
              "      <td>4.360000</td>\n",
              "      <td>4.420000</td>\n",
              "      <td>4.390000</td>\n",
              "      <td>4.530000</td>\n",
              "      <td>4.390000</td>\n",
              "      <td>4.460000</td>\n",
              "      <td>4.420000</td>\n",
              "      <td>4.410000</td>\n",
              "      <td>4.450000</td>\n",
              "      <td>4.540000</td>\n",
              "      <td>4.400000</td>\n",
              "      <td>4.410000</td>\n",
              "      <td>4.410000</td>\n",
              "      <td>4.400000</td>\n",
              "      <td>4.680000</td>\n",
              "    </tr>\n",
              "  </tbody>\n",
              "</table>\n",
              "</div>\n",
              "      <button class=\"colab-df-convert\" onclick=\"convertToInteractive('df-cb8ceff1-9e3b-48ce-8cbb-223a7eec8f5a')\"\n",
              "              title=\"Convert this dataframe to an interactive table.\"\n",
              "              style=\"display:none;\">\n",
              "        \n",
              "  <svg xmlns=\"http://www.w3.org/2000/svg\" height=\"24px\"viewBox=\"0 0 24 24\"\n",
              "       width=\"24px\">\n",
              "    <path d=\"M0 0h24v24H0V0z\" fill=\"none\"/>\n",
              "    <path d=\"M18.56 5.44l.94 2.06.94-2.06 2.06-.94-2.06-.94-.94-2.06-.94 2.06-2.06.94zm-11 1L8.5 8.5l.94-2.06 2.06-.94-2.06-.94L8.5 2.5l-.94 2.06-2.06.94zm10 10l.94 2.06.94-2.06 2.06-.94-2.06-.94-.94-2.06-.94 2.06-2.06.94z\"/><path d=\"M17.41 7.96l-1.37-1.37c-.4-.4-.92-.59-1.43-.59-.52 0-1.04.2-1.43.59L10.3 9.45l-7.72 7.72c-.78.78-.78 2.05 0 2.83L4 21.41c.39.39.9.59 1.41.59.51 0 1.02-.2 1.41-.59l7.78-7.78 2.81-2.81c.8-.78.8-2.07 0-2.86zM5.41 20L4 18.59l7.72-7.72 1.47 1.35L5.41 20z\"/>\n",
              "  </svg>\n",
              "      </button>\n",
              "      \n",
              "  <style>\n",
              "    .colab-df-container {\n",
              "      display:flex;\n",
              "      flex-wrap:wrap;\n",
              "      gap: 12px;\n",
              "    }\n",
              "\n",
              "    .colab-df-convert {\n",
              "      background-color: #E8F0FE;\n",
              "      border: none;\n",
              "      border-radius: 50%;\n",
              "      cursor: pointer;\n",
              "      display: none;\n",
              "      fill: #1967D2;\n",
              "      height: 32px;\n",
              "      padding: 0 0 0 0;\n",
              "      width: 32px;\n",
              "    }\n",
              "\n",
              "    .colab-df-convert:hover {\n",
              "      background-color: #E2EBFA;\n",
              "      box-shadow: 0px 1px 2px rgba(60, 64, 67, 0.3), 0px 1px 3px 1px rgba(60, 64, 67, 0.15);\n",
              "      fill: #174EA6;\n",
              "    }\n",
              "\n",
              "    [theme=dark] .colab-df-convert {\n",
              "      background-color: #3B4455;\n",
              "      fill: #D2E3FC;\n",
              "    }\n",
              "\n",
              "    [theme=dark] .colab-df-convert:hover {\n",
              "      background-color: #434B5C;\n",
              "      box-shadow: 0px 1px 3px 1px rgba(0, 0, 0, 0.15);\n",
              "      filter: drop-shadow(0px 1px 2px rgba(0, 0, 0, 0.3));\n",
              "      fill: #FFFFFF;\n",
              "    }\n",
              "  </style>\n",
              "\n",
              "      <script>\n",
              "        const buttonEl =\n",
              "          document.querySelector('#df-cb8ceff1-9e3b-48ce-8cbb-223a7eec8f5a button.colab-df-convert');\n",
              "        buttonEl.style.display =\n",
              "          google.colab.kernel.accessAllowed ? 'block' : 'none';\n",
              "\n",
              "        async function convertToInteractive(key) {\n",
              "          const element = document.querySelector('#df-cb8ceff1-9e3b-48ce-8cbb-223a7eec8f5a');\n",
              "          const dataTable =\n",
              "            await google.colab.kernel.invokeFunction('convertToInteractive',\n",
              "                                                     [key], {});\n",
              "          if (!dataTable) return;\n",
              "\n",
              "          const docLinkHtml = 'Like what you see? Visit the ' +\n",
              "            '<a target=\"_blank\" href=https://colab.research.google.com/notebooks/data_table.ipynb>data table notebook</a>'\n",
              "            + ' to learn more about interactive tables.';\n",
              "          element.innerHTML = '';\n",
              "          dataTable['output_type'] = 'display_data';\n",
              "          await google.colab.output.renderOutput(dataTable, element);\n",
              "          const docLink = document.createElement('div');\n",
              "          docLink.innerHTML = docLinkHtml;\n",
              "          element.appendChild(docLink);\n",
              "        }\n",
              "      </script>\n",
              "    </div>\n",
              "  </div>\n",
              "  "
            ]
          },
          "metadata": {},
          "execution_count": 81
        }
      ]
    },
    {
      "cell_type": "code",
      "source": [
        "df.mode()"
      ],
      "metadata": {
        "colab": {
          "base_uri": "https://localhost:8080/",
          "height": 679
        },
        "id": "oW2vmAO6JZ2j",
        "outputId": "7fa3052e-8970-4686-a7ff-842ece36e5a1"
      },
      "execution_count": null,
      "outputs": [
        {
          "output_type": "execute_result",
          "data": {
            "text/plain": [
              "          Date  NY State  Albany  Batavia  Binghamton  Buffalo  Dutchess  \\\n",
              "0   2018-01-01      2.69    2.27     2.84        2.17     2.19      2.75   \n",
              "1   2018-01-08       NaN    2.62      NaN         NaN     2.99       NaN   \n",
              "2   2018-01-15       NaN    2.64      NaN         NaN      NaN       NaN   \n",
              "3   2018-01-22       NaN     NaN      NaN         NaN      NaN       NaN   \n",
              "4   2018-01-29       NaN     NaN      NaN         NaN      NaN       NaN   \n",
              "..         ...       ...     ...      ...         ...      ...       ...   \n",
              "223 2022-04-11       NaN     NaN      NaN         NaN      NaN       NaN   \n",
              "224 2022-04-18       NaN     NaN      NaN         NaN      NaN       NaN   \n",
              "225 2022-04-25       NaN     NaN      NaN         NaN      NaN       NaN   \n",
              "226 2022-05-02       NaN     NaN      NaN         NaN      NaN       NaN   \n",
              "227 2022-05-09       NaN     NaN      NaN         NaN      NaN       NaN   \n",
              "\n",
              "     Elmira  Glens Falls  Ithaca  Kingston  Nassau  NYC  Rochester  Syracuse  \\\n",
              "0      2.69         2.64    2.18      2.89    2.19  3.1       2.21      2.59   \n",
              "1       NaN          NaN    2.66       NaN     NaN  NaN       2.67       NaN   \n",
              "2       NaN          NaN     NaN       NaN     NaN  NaN        NaN       NaN   \n",
              "3       NaN          NaN     NaN       NaN     NaN  NaN        NaN       NaN   \n",
              "4       NaN          NaN     NaN       NaN     NaN  NaN        NaN       NaN   \n",
              "..      ...          ...     ...       ...     ...  ...        ...       ...   \n",
              "223     NaN          NaN     NaN       NaN     NaN  NaN        NaN       NaN   \n",
              "224     NaN          NaN     NaN       NaN     NaN  NaN        NaN       NaN   \n",
              "225     NaN          NaN     NaN       NaN     NaN  NaN        NaN       NaN   \n",
              "226     NaN          NaN     NaN       NaN     NaN  NaN        NaN       NaN   \n",
              "227     NaN          NaN     NaN       NaN     NaN  NaN        NaN       NaN   \n",
              "\n",
              "     Utica  Watertown  White Plains  \n",
              "0     2.62       2.28          2.83  \n",
              "1      NaN        NaN           NaN  \n",
              "2      NaN        NaN           NaN  \n",
              "3      NaN        NaN           NaN  \n",
              "4      NaN        NaN           NaN  \n",
              "..     ...        ...           ...  \n",
              "223    NaN        NaN           NaN  \n",
              "224    NaN        NaN           NaN  \n",
              "225    NaN        NaN           NaN  \n",
              "226    NaN        NaN           NaN  \n",
              "227    NaN        NaN           NaN  \n",
              "\n",
              "[228 rows x 18 columns]"
            ],
            "text/html": [
              "\n",
              "  <div id=\"df-cf5dc988-4952-4d87-8648-7c0e7cac6d72\">\n",
              "    <div class=\"colab-df-container\">\n",
              "      <div>\n",
              "<style scoped>\n",
              "    .dataframe tbody tr th:only-of-type {\n",
              "        vertical-align: middle;\n",
              "    }\n",
              "\n",
              "    .dataframe tbody tr th {\n",
              "        vertical-align: top;\n",
              "    }\n",
              "\n",
              "    .dataframe thead th {\n",
              "        text-align: right;\n",
              "    }\n",
              "</style>\n",
              "<table border=\"1\" class=\"dataframe\">\n",
              "  <thead>\n",
              "    <tr style=\"text-align: right;\">\n",
              "      <th></th>\n",
              "      <th>Date</th>\n",
              "      <th>NY State</th>\n",
              "      <th>Albany</th>\n",
              "      <th>Batavia</th>\n",
              "      <th>Binghamton</th>\n",
              "      <th>Buffalo</th>\n",
              "      <th>Dutchess</th>\n",
              "      <th>Elmira</th>\n",
              "      <th>Glens Falls</th>\n",
              "      <th>Ithaca</th>\n",
              "      <th>Kingston</th>\n",
              "      <th>Nassau</th>\n",
              "      <th>NYC</th>\n",
              "      <th>Rochester</th>\n",
              "      <th>Syracuse</th>\n",
              "      <th>Utica</th>\n",
              "      <th>Watertown</th>\n",
              "      <th>White Plains</th>\n",
              "    </tr>\n",
              "  </thead>\n",
              "  <tbody>\n",
              "    <tr>\n",
              "      <th>0</th>\n",
              "      <td>2018-01-01</td>\n",
              "      <td>2.69</td>\n",
              "      <td>2.27</td>\n",
              "      <td>2.84</td>\n",
              "      <td>2.17</td>\n",
              "      <td>2.19</td>\n",
              "      <td>2.75</td>\n",
              "      <td>2.69</td>\n",
              "      <td>2.64</td>\n",
              "      <td>2.18</td>\n",
              "      <td>2.89</td>\n",
              "      <td>2.19</td>\n",
              "      <td>3.1</td>\n",
              "      <td>2.21</td>\n",
              "      <td>2.59</td>\n",
              "      <td>2.62</td>\n",
              "      <td>2.28</td>\n",
              "      <td>2.83</td>\n",
              "    </tr>\n",
              "    <tr>\n",
              "      <th>1</th>\n",
              "      <td>2018-01-08</td>\n",
              "      <td>NaN</td>\n",
              "      <td>2.62</td>\n",
              "      <td>NaN</td>\n",
              "      <td>NaN</td>\n",
              "      <td>2.99</td>\n",
              "      <td>NaN</td>\n",
              "      <td>NaN</td>\n",
              "      <td>NaN</td>\n",
              "      <td>2.66</td>\n",
              "      <td>NaN</td>\n",
              "      <td>NaN</td>\n",
              "      <td>NaN</td>\n",
              "      <td>2.67</td>\n",
              "      <td>NaN</td>\n",
              "      <td>NaN</td>\n",
              "      <td>NaN</td>\n",
              "      <td>NaN</td>\n",
              "    </tr>\n",
              "    <tr>\n",
              "      <th>2</th>\n",
              "      <td>2018-01-15</td>\n",
              "      <td>NaN</td>\n",
              "      <td>2.64</td>\n",
              "      <td>NaN</td>\n",
              "      <td>NaN</td>\n",
              "      <td>NaN</td>\n",
              "      <td>NaN</td>\n",
              "      <td>NaN</td>\n",
              "      <td>NaN</td>\n",
              "      <td>NaN</td>\n",
              "      <td>NaN</td>\n",
              "      <td>NaN</td>\n",
              "      <td>NaN</td>\n",
              "      <td>NaN</td>\n",
              "      <td>NaN</td>\n",
              "      <td>NaN</td>\n",
              "      <td>NaN</td>\n",
              "      <td>NaN</td>\n",
              "    </tr>\n",
              "    <tr>\n",
              "      <th>3</th>\n",
              "      <td>2018-01-22</td>\n",
              "      <td>NaN</td>\n",
              "      <td>NaN</td>\n",
              "      <td>NaN</td>\n",
              "      <td>NaN</td>\n",
              "      <td>NaN</td>\n",
              "      <td>NaN</td>\n",
              "      <td>NaN</td>\n",
              "      <td>NaN</td>\n",
              "      <td>NaN</td>\n",
              "      <td>NaN</td>\n",
              "      <td>NaN</td>\n",
              "      <td>NaN</td>\n",
              "      <td>NaN</td>\n",
              "      <td>NaN</td>\n",
              "      <td>NaN</td>\n",
              "      <td>NaN</td>\n",
              "      <td>NaN</td>\n",
              "    </tr>\n",
              "    <tr>\n",
              "      <th>4</th>\n",
              "      <td>2018-01-29</td>\n",
              "      <td>NaN</td>\n",
              "      <td>NaN</td>\n",
              "      <td>NaN</td>\n",
              "      <td>NaN</td>\n",
              "      <td>NaN</td>\n",
              "      <td>NaN</td>\n",
              "      <td>NaN</td>\n",
              "      <td>NaN</td>\n",
              "      <td>NaN</td>\n",
              "      <td>NaN</td>\n",
              "      <td>NaN</td>\n",
              "      <td>NaN</td>\n",
              "      <td>NaN</td>\n",
              "      <td>NaN</td>\n",
              "      <td>NaN</td>\n",
              "      <td>NaN</td>\n",
              "      <td>NaN</td>\n",
              "    </tr>\n",
              "    <tr>\n",
              "      <th>...</th>\n",
              "      <td>...</td>\n",
              "      <td>...</td>\n",
              "      <td>...</td>\n",
              "      <td>...</td>\n",
              "      <td>...</td>\n",
              "      <td>...</td>\n",
              "      <td>...</td>\n",
              "      <td>...</td>\n",
              "      <td>...</td>\n",
              "      <td>...</td>\n",
              "      <td>...</td>\n",
              "      <td>...</td>\n",
              "      <td>...</td>\n",
              "      <td>...</td>\n",
              "      <td>...</td>\n",
              "      <td>...</td>\n",
              "      <td>...</td>\n",
              "      <td>...</td>\n",
              "    </tr>\n",
              "    <tr>\n",
              "      <th>223</th>\n",
              "      <td>2022-04-11</td>\n",
              "      <td>NaN</td>\n",
              "      <td>NaN</td>\n",
              "      <td>NaN</td>\n",
              "      <td>NaN</td>\n",
              "      <td>NaN</td>\n",
              "      <td>NaN</td>\n",
              "      <td>NaN</td>\n",
              "      <td>NaN</td>\n",
              "      <td>NaN</td>\n",
              "      <td>NaN</td>\n",
              "      <td>NaN</td>\n",
              "      <td>NaN</td>\n",
              "      <td>NaN</td>\n",
              "      <td>NaN</td>\n",
              "      <td>NaN</td>\n",
              "      <td>NaN</td>\n",
              "      <td>NaN</td>\n",
              "    </tr>\n",
              "    <tr>\n",
              "      <th>224</th>\n",
              "      <td>2022-04-18</td>\n",
              "      <td>NaN</td>\n",
              "      <td>NaN</td>\n",
              "      <td>NaN</td>\n",
              "      <td>NaN</td>\n",
              "      <td>NaN</td>\n",
              "      <td>NaN</td>\n",
              "      <td>NaN</td>\n",
              "      <td>NaN</td>\n",
              "      <td>NaN</td>\n",
              "      <td>NaN</td>\n",
              "      <td>NaN</td>\n",
              "      <td>NaN</td>\n",
              "      <td>NaN</td>\n",
              "      <td>NaN</td>\n",
              "      <td>NaN</td>\n",
              "      <td>NaN</td>\n",
              "      <td>NaN</td>\n",
              "    </tr>\n",
              "    <tr>\n",
              "      <th>225</th>\n",
              "      <td>2022-04-25</td>\n",
              "      <td>NaN</td>\n",
              "      <td>NaN</td>\n",
              "      <td>NaN</td>\n",
              "      <td>NaN</td>\n",
              "      <td>NaN</td>\n",
              "      <td>NaN</td>\n",
              "      <td>NaN</td>\n",
              "      <td>NaN</td>\n",
              "      <td>NaN</td>\n",
              "      <td>NaN</td>\n",
              "      <td>NaN</td>\n",
              "      <td>NaN</td>\n",
              "      <td>NaN</td>\n",
              "      <td>NaN</td>\n",
              "      <td>NaN</td>\n",
              "      <td>NaN</td>\n",
              "      <td>NaN</td>\n",
              "    </tr>\n",
              "    <tr>\n",
              "      <th>226</th>\n",
              "      <td>2022-05-02</td>\n",
              "      <td>NaN</td>\n",
              "      <td>NaN</td>\n",
              "      <td>NaN</td>\n",
              "      <td>NaN</td>\n",
              "      <td>NaN</td>\n",
              "      <td>NaN</td>\n",
              "      <td>NaN</td>\n",
              "      <td>NaN</td>\n",
              "      <td>NaN</td>\n",
              "      <td>NaN</td>\n",
              "      <td>NaN</td>\n",
              "      <td>NaN</td>\n",
              "      <td>NaN</td>\n",
              "      <td>NaN</td>\n",
              "      <td>NaN</td>\n",
              "      <td>NaN</td>\n",
              "      <td>NaN</td>\n",
              "    </tr>\n",
              "    <tr>\n",
              "      <th>227</th>\n",
              "      <td>2022-05-09</td>\n",
              "      <td>NaN</td>\n",
              "      <td>NaN</td>\n",
              "      <td>NaN</td>\n",
              "      <td>NaN</td>\n",
              "      <td>NaN</td>\n",
              "      <td>NaN</td>\n",
              "      <td>NaN</td>\n",
              "      <td>NaN</td>\n",
              "      <td>NaN</td>\n",
              "      <td>NaN</td>\n",
              "      <td>NaN</td>\n",
              "      <td>NaN</td>\n",
              "      <td>NaN</td>\n",
              "      <td>NaN</td>\n",
              "      <td>NaN</td>\n",
              "      <td>NaN</td>\n",
              "      <td>NaN</td>\n",
              "    </tr>\n",
              "  </tbody>\n",
              "</table>\n",
              "<p>228 rows × 18 columns</p>\n",
              "</div>\n",
              "      <button class=\"colab-df-convert\" onclick=\"convertToInteractive('df-cf5dc988-4952-4d87-8648-7c0e7cac6d72')\"\n",
              "              title=\"Convert this dataframe to an interactive table.\"\n",
              "              style=\"display:none;\">\n",
              "        \n",
              "  <svg xmlns=\"http://www.w3.org/2000/svg\" height=\"24px\"viewBox=\"0 0 24 24\"\n",
              "       width=\"24px\">\n",
              "    <path d=\"M0 0h24v24H0V0z\" fill=\"none\"/>\n",
              "    <path d=\"M18.56 5.44l.94 2.06.94-2.06 2.06-.94-2.06-.94-.94-2.06-.94 2.06-2.06.94zm-11 1L8.5 8.5l.94-2.06 2.06-.94-2.06-.94L8.5 2.5l-.94 2.06-2.06.94zm10 10l.94 2.06.94-2.06 2.06-.94-2.06-.94-.94-2.06-.94 2.06-2.06.94z\"/><path d=\"M17.41 7.96l-1.37-1.37c-.4-.4-.92-.59-1.43-.59-.52 0-1.04.2-1.43.59L10.3 9.45l-7.72 7.72c-.78.78-.78 2.05 0 2.83L4 21.41c.39.39.9.59 1.41.59.51 0 1.02-.2 1.41-.59l7.78-7.78 2.81-2.81c.8-.78.8-2.07 0-2.86zM5.41 20L4 18.59l7.72-7.72 1.47 1.35L5.41 20z\"/>\n",
              "  </svg>\n",
              "      </button>\n",
              "      \n",
              "  <style>\n",
              "    .colab-df-container {\n",
              "      display:flex;\n",
              "      flex-wrap:wrap;\n",
              "      gap: 12px;\n",
              "    }\n",
              "\n",
              "    .colab-df-convert {\n",
              "      background-color: #E8F0FE;\n",
              "      border: none;\n",
              "      border-radius: 50%;\n",
              "      cursor: pointer;\n",
              "      display: none;\n",
              "      fill: #1967D2;\n",
              "      height: 32px;\n",
              "      padding: 0 0 0 0;\n",
              "      width: 32px;\n",
              "    }\n",
              "\n",
              "    .colab-df-convert:hover {\n",
              "      background-color: #E2EBFA;\n",
              "      box-shadow: 0px 1px 2px rgba(60, 64, 67, 0.3), 0px 1px 3px 1px rgba(60, 64, 67, 0.15);\n",
              "      fill: #174EA6;\n",
              "    }\n",
              "\n",
              "    [theme=dark] .colab-df-convert {\n",
              "      background-color: #3B4455;\n",
              "      fill: #D2E3FC;\n",
              "    }\n",
              "\n",
              "    [theme=dark] .colab-df-convert:hover {\n",
              "      background-color: #434B5C;\n",
              "      box-shadow: 0px 1px 3px 1px rgba(0, 0, 0, 0.15);\n",
              "      filter: drop-shadow(0px 1px 2px rgba(0, 0, 0, 0.3));\n",
              "      fill: #FFFFFF;\n",
              "    }\n",
              "  </style>\n",
              "\n",
              "      <script>\n",
              "        const buttonEl =\n",
              "          document.querySelector('#df-cf5dc988-4952-4d87-8648-7c0e7cac6d72 button.colab-df-convert');\n",
              "        buttonEl.style.display =\n",
              "          google.colab.kernel.accessAllowed ? 'block' : 'none';\n",
              "\n",
              "        async function convertToInteractive(key) {\n",
              "          const element = document.querySelector('#df-cf5dc988-4952-4d87-8648-7c0e7cac6d72');\n",
              "          const dataTable =\n",
              "            await google.colab.kernel.invokeFunction('convertToInteractive',\n",
              "                                                     [key], {});\n",
              "          if (!dataTable) return;\n",
              "\n",
              "          const docLinkHtml = 'Like what you see? Visit the ' +\n",
              "            '<a target=\"_blank\" href=https://colab.research.google.com/notebooks/data_table.ipynb>data table notebook</a>'\n",
              "            + ' to learn more about interactive tables.';\n",
              "          element.innerHTML = '';\n",
              "          dataTable['output_type'] = 'display_data';\n",
              "          await google.colab.output.renderOutput(dataTable, element);\n",
              "          const docLink = document.createElement('div');\n",
              "          docLink.innerHTML = docLinkHtml;\n",
              "          element.appendChild(docLink);\n",
              "        }\n",
              "      </script>\n",
              "    </div>\n",
              "  </div>\n",
              "  "
            ]
          },
          "metadata": {},
          "execution_count": 82
        }
      ]
    },
    {
      "cell_type": "code",
      "source": [
        "#dropping beginning and ending weeks out of df for better graphing\n",
        "df = df.drop([2,5,6,9,10,13,14,15,18,19,22,23,24,27,28,31,32,35,36,37,40,41,44,45,48,49,50,53,54,55,57,58,59,62,63,66,67,70,71,74,75,76,79,80,83,84,87,88,89,92,93,96,97,100,101,102,105,106,109,110,111,114,115,118,119,122,123,126,127,128,131,132,135,136,137,140,141,144,145,148,149,150,153,154,157,158,159,162,163,166,167,170,171,174,175,176,179,180,183,184,187,188,189,192,193,196,197,198,201,202,203,206,207,210,211,214,215,218,219,222,223,226,227])\n",
        "df.info()"
      ],
      "metadata": {
        "colab": {
          "base_uri": "https://localhost:8080/"
        },
        "id": "rZK8zPfyk7im",
        "outputId": "fc88dd1a-4360-44aa-a315-0d1604e8b68b"
      },
      "execution_count": null,
      "outputs": [
        {
          "output_type": "stream",
          "name": "stdout",
          "text": [
            "<class 'pandas.core.frame.DataFrame'>\n",
            "Int64Index: 105 entries, 0 to 225\n",
            "Data columns (total 18 columns):\n",
            " #   Column        Non-Null Count  Dtype         \n",
            "---  ------        --------------  -----         \n",
            " 0   Date          105 non-null    datetime64[ns]\n",
            " 1   NY State      105 non-null    float64       \n",
            " 2   Albany        105 non-null    float64       \n",
            " 3   Batavia       105 non-null    float64       \n",
            " 4   Binghamton    105 non-null    float64       \n",
            " 5   Buffalo       105 non-null    float64       \n",
            " 6   Dutchess      105 non-null    float64       \n",
            " 7   Elmira        105 non-null    float64       \n",
            " 8   Glens Falls   105 non-null    float64       \n",
            " 9   Ithaca        105 non-null    float64       \n",
            " 10  Kingston      105 non-null    float64       \n",
            " 11  Nassau        105 non-null    float64       \n",
            " 12  NYC           105 non-null    float64       \n",
            " 13  Rochester     105 non-null    float64       \n",
            " 14  Syracuse      105 non-null    float64       \n",
            " 15  Utica         105 non-null    float64       \n",
            " 16  Watertown     105 non-null    float64       \n",
            " 17  White Plains  105 non-null    float64       \n",
            "dtypes: datetime64[ns](1), float64(17)\n",
            "memory usage: 15.6 KB\n"
          ]
        }
      ]
    },
    {
      "cell_type": "code",
      "source": [
        "#sorting df by date in ascending order\n",
        "df.sort_values(by='Date', inplace=True)\n",
        "print(df)"
      ],
      "metadata": {
        "colab": {
          "base_uri": "https://localhost:8080/"
        },
        "id": "93vI0SgGlWui",
        "outputId": "10c4c79c-355f-42e0-f1c7-f7bbdb7c212c"
      },
      "execution_count": null,
      "outputs": [
        {
          "output_type": "stream",
          "name": "stdout",
          "text": [
            "          Date  NY State  Albany  Batavia  Binghamton  Buffalo  Dutchess  \\\n",
            "225 2018-01-15      2.67    2.59     2.61        2.63     2.63      2.69   \n",
            "224 2018-01-22      2.69    2.60     2.61        2.65     2.64      2.70   \n",
            "221 2018-02-12      2.77    2.68     2.69        2.75     2.69      2.77   \n",
            "220 2018-02-19      2.75    2.66     2.67        2.72     2.68      2.76   \n",
            "217 2018-03-12      2.70    2.61     2.66        2.69     2.67      2.72   \n",
            "..         ...       ...     ...      ...         ...      ...       ...   \n",
            "7   2022-03-21      4.40    4.34     4.36        4.37     4.39      4.47   \n",
            "4   2022-04-11      4.27    4.23     4.30        4.27     4.31      4.36   \n",
            "3   2022-04-18      4.20    4.17     4.24        4.20     4.25      4.29   \n",
            "1   2022-05-02      4.29    4.25     4.23        4.26     4.21      4.39   \n",
            "0   2022-05-09      4.44    4.41     4.29        4.38     4.29      4.53   \n",
            "\n",
            "     Elmira  Glens Falls  Ithaca  Kingston  Nassau   NYC  Rochester  Syracuse  \\\n",
            "225    2.61         2.64    2.64      2.60    2.66  2.75       2.62      2.61   \n",
            "224    2.63         2.64    2.65      2.62    2.69  2.78       2.63      2.62   \n",
            "221    2.73         2.71    2.73      2.71    2.78  2.85       2.71      2.72   \n",
            "220    2.70         2.69    2.72      2.69    2.76  2.82       2.69      2.69   \n",
            "217    2.65         2.62    2.66      2.61    2.69  2.77       2.65      2.62   \n",
            "..      ...          ...     ...       ...     ...   ...        ...       ...   \n",
            "7      4.35         4.34    4.39      4.30    4.40  4.46       4.40      4.37   \n",
            "4      4.20         4.26    4.24      4.10    4.17  4.27       4.33      4.27   \n",
            "3      4.14         4.20    4.20      4.03    4.07  4.17       4.28      4.22   \n",
            "1      4.24         4.30    4.24      4.16    4.24  4.33       4.29      4.26   \n",
            "0      4.39         4.46    4.38      4.37    4.45  4.54       4.37      4.37   \n",
            "\n",
            "     Utica  Watertown  White Plains  \n",
            "225   2.65       2.68          2.79  \n",
            "224   2.66       2.69          2.81  \n",
            "221   2.76       2.79          2.86  \n",
            "220   2.75       2.78          2.85  \n",
            "217   2.71       2.72          2.82  \n",
            "..     ...        ...           ...  \n",
            "7     4.34       4.37          4.51  \n",
            "4     4.27       4.31          4.40  \n",
            "3     4.22       4.26          4.33  \n",
            "1     4.28       4.27          4.42  \n",
            "0     4.41       4.39          4.57  \n",
            "\n",
            "[105 rows x 18 columns]\n"
          ]
        }
      ]
    },
    {
      "cell_type": "code",
      "source": [
        "#making yearly dfs\n",
        "newdf22 =(df['Date'] >= '01-01-2022')& (df['Date'] <= '12-31-2022')\n",
        "newdf22 = df.loc[newdf22]\n",
        "print(newdf22)"
      ],
      "metadata": {
        "colab": {
          "base_uri": "https://localhost:8080/"
        },
        "id": "9bElzGhXlnUJ",
        "outputId": "a3370e69-c2aa-494d-bede-b68b0e043b6f"
      },
      "execution_count": null,
      "outputs": [
        {
          "output_type": "stream",
          "name": "stdout",
          "text": [
            "         Date  NY State  Albany  Batavia  Binghamton  Buffalo  Dutchess  \\\n",
            "17 2022-01-10      3.49    3.45     3.44        3.43     3.45      3.54   \n",
            "16 2022-01-17      3.48    3.45     3.44        3.42     3.44      3.53   \n",
            "12 2022-02-14      3.65    3.68     3.60        3.67     3.59      3.67   \n",
            "11 2022-02-21      3.73    3.75     3.67        3.76     3.68      3.73   \n",
            "8  2022-03-14      4.44    4.43     4.36        4.42     4.38      4.52   \n",
            "7  2022-03-21      4.40    4.34     4.36        4.37     4.39      4.47   \n",
            "4  2022-04-11      4.27    4.23     4.30        4.27     4.31      4.36   \n",
            "3  2022-04-18      4.20    4.17     4.24        4.20     4.25      4.29   \n",
            "1  2022-05-02      4.29    4.25     4.23        4.26     4.21      4.39   \n",
            "0  2022-05-09      4.44    4.41     4.29        4.38     4.29      4.53   \n",
            "\n",
            "    Elmira  Glens Falls  Ithaca  Kingston  Nassau   NYC  Rochester  Syracuse  \\\n",
            "17    3.34         3.50    3.49      3.33    3.42  3.53       3.50      3.46   \n",
            "16    3.33         3.50    3.49      3.34    3.41  3.51       3.50      3.46   \n",
            "12    3.61         3.74    3.66      3.61    3.61  3.68       3.65      3.62   \n",
            "11    3.70         3.79    3.73      3.73    3.71  3.76       3.73      3.69   \n",
            "8     4.39         4.46    4.42      4.41    4.44  4.48       4.40      4.41   \n",
            "7     4.35         4.34    4.39      4.30    4.40  4.46       4.40      4.37   \n",
            "4     4.20         4.26    4.24      4.10    4.17  4.27       4.33      4.27   \n",
            "3     4.14         4.20    4.20      4.03    4.07  4.17       4.28      4.22   \n",
            "1     4.24         4.30    4.24      4.16    4.24  4.33       4.29      4.26   \n",
            "0     4.39         4.46    4.38      4.37    4.45  4.54       4.37      4.37   \n",
            "\n",
            "    Utica  Watertown  White Plains  \n",
            "17   3.52       3.50          3.62  \n",
            "16   3.52       3.50          3.62  \n",
            "12   3.68       3.63          3.73  \n",
            "11   3.75       3.71          3.79  \n",
            "8    4.40       4.40          4.68  \n",
            "7    4.34       4.37          4.51  \n",
            "4    4.27       4.31          4.40  \n",
            "3    4.22       4.26          4.33  \n",
            "1    4.28       4.27          4.42  \n",
            "0    4.41       4.39          4.57  \n"
          ]
        }
      ]
    },
    {
      "cell_type": "code",
      "source": [
        "newdf21 =(df['Date'] >= '01-01-2021')& (df['Date'] <= '12-31-2021')\n",
        "newdf21 = df.loc[newdf21]\n",
        "print(newdf21)"
      ],
      "metadata": {
        "colab": {
          "base_uri": "https://localhost:8080/"
        },
        "id": "KquVjGlHlrg4",
        "outputId": "66eb9680-41c4-447c-f153-5709a52158c3"
      },
      "execution_count": null,
      "outputs": [
        {
          "output_type": "stream",
          "name": "stdout",
          "text": [
            "         Date  NY State  Albany  Batavia  Binghamton  Buffalo  Dutchess  \\\n",
            "69 2021-01-11      2.36    2.34     2.29        2.33     2.30      2.41   \n",
            "68 2021-01-18      2.44    2.41     2.37        2.43     2.39      2.48   \n",
            "65 2021-02-08      2.54    2.51     2.42        2.51     2.45      2.56   \n",
            "64 2021-02-15      2.59    2.57     2.49        2.58     2.50      2.60   \n",
            "61 2021-03-08      2.81    2.79     2.74        2.80     2.75      2.82   \n",
            "60 2021-03-15      2.88    2.86     2.81        2.86     2.81      2.91   \n",
            "56 2021-04-12      2.90    2.87     2.84        2.87     2.82      2.94   \n",
            "52 2021-05-10      2.98    2.95     2.92        2.94     2.91      3.01   \n",
            "51 2021-05-17      3.04    3.00     2.97        2.99     2.95      3.06   \n",
            "47 2021-06-14      3.10    3.05     3.03        3.04     3.02      3.11   \n",
            "46 2021-06-21      3.13    3.07     3.09        3.09     3.06      3.12   \n",
            "43 2021-07-12      3.19    3.13     3.16        3.17     3.12      3.18   \n",
            "42 2021-07-19      3.20    3.15     3.16        3.17     3.12      3.19   \n",
            "39 2021-08-09      3.22    3.16     3.21        3.21     3.15      3.21   \n",
            "38 2021-08-16      3.22    3.16     3.23        3.19     3.15      3.21   \n",
            "34 2021-09-13      3.28    3.24     3.26        3.27     3.23      3.24   \n",
            "33 2021-09-20      3.28    3.24     3.26        3.26     3.23      3.26   \n",
            "30 2021-10-11      3.32    3.28     3.28        3.30     3.27      3.30   \n",
            "29 2021-10-18      3.39    3.37     3.35        3.39     3.33      3.40   \n",
            "26 2021-11-08      3.55    3.51     3.46        3.52     3.47      3.56   \n",
            "25 2021-11-15      3.56    3.52     3.47        3.52     3.47      3.57   \n",
            "21 2021-12-13      3.53    3.48     3.47        3.48     3.46      3.56   \n",
            "20 2021-12-20      3.52    3.47     3.47        3.47     3.46      3.56   \n",
            "\n",
            "    Elmira  Glens Falls  Ithaca  Kingston  Nassau   NYC  Rochester  Syracuse  \\\n",
            "69    2.32         2.40    2.33      2.33    2.32  2.40       2.33      2.32   \n",
            "68    2.41         2.45    2.42      2.39    2.40  2.49       2.41      2.39   \n",
            "65    2.50         2.55    2.49      2.50    2.53  2.62       2.48      2.46   \n",
            "64    2.55         2.61    2.54      2.54    2.56  2.66       2.53      2.52   \n",
            "61    2.78         2.82    2.78      2.78    2.79  2.88       2.79      2.78   \n",
            "60    2.84         2.89    2.85      2.83    2.84  2.95       2.85      2.84   \n",
            "56    2.79         2.92    2.88      2.83    2.86  2.97       2.87      2.85   \n",
            "52    2.92         2.99    2.93      2.90    2.96  3.08       2.94      2.93   \n",
            "51    2.97         3.04    2.97      2.97    3.04  3.16       2.99      2.99   \n",
            "47    3.01         3.12    3.04      3.00    3.08  3.20       3.05      3.05   \n",
            "46    3.07         3.13    3.08      3.04    3.12  3.21       3.09      3.10   \n",
            "43    3.17         3.20    3.18      3.10    3.19  3.28       3.16      3.16   \n",
            "42    3.15         3.22    3.18      3.10    3.20  3.28       3.17      3.16   \n",
            "39    3.15         3.24    3.20      3.10    3.22  3.31       3.20      3.19   \n",
            "38    3.14         3.24    3.19      3.11    3.22  3.31       3.20      3.19   \n",
            "34    3.22         3.30    3.27      3.24    3.28  3.35       3.28      3.24   \n",
            "33    3.22         3.30    3.28      3.21    3.28  3.35       3.28      3.24   \n",
            "30    3.26         3.35    3.32      3.22    3.29  3.38       3.32      3.29   \n",
            "29    3.37         3.42    3.40      3.33    3.36  3.45       3.39      3.36   \n",
            "26    3.47         3.57    3.51      3.52    3.55  3.63       3.53      3.50   \n",
            "25    3.48         3.59    3.52      3.52    3.55  3.63       3.53      3.50   \n",
            "21    3.42         3.55    3.50      3.43    3.50  3.59       3.51      3.48   \n",
            "20    3.40         3.52    3.50      3.39    3.48  3.57       3.51      3.48   \n",
            "\n",
            "    Utica  Watertown  White Plains  \n",
            "69   2.40       2.38          2.46  \n",
            "68   2.45       2.47          2.53  \n",
            "65   2.56       2.57          2.63  \n",
            "64   2.61       2.61          2.68  \n",
            "61   2.82       2.83          2.89  \n",
            "60   2.89       2.89          2.96  \n",
            "56   2.93       2.95          2.99  \n",
            "52   3.00       3.01          3.08  \n",
            "51   3.06       3.06          3.14  \n",
            "47   3.16       3.15          3.19  \n",
            "46   3.18       3.16          3.19  \n",
            "43   3.24       3.21          3.25  \n",
            "42   3.25       3.22          3.26  \n",
            "39   3.26       3.23          3.29  \n",
            "38   3.27       3.22          3.29  \n",
            "34   3.30       3.25          3.31  \n",
            "33   3.30       3.25          3.32  \n",
            "30   3.34       3.30          3.38  \n",
            "29   3.41       3.39          3.47  \n",
            "26   3.55       3.56          3.63  \n",
            "25   3.57       3.58          3.65  \n",
            "21   3.55       3.56          3.65  \n",
            "20   3.53       3.55          3.65  \n"
          ]
        }
      ]
    },
    {
      "cell_type": "code",
      "source": [
        "newdf20 =(df['Date'] >= '01-01-2020')& (df['Date'] <= '12-31-2020')\n",
        "newdf20 = df.loc[newdf20]\n",
        "print(newdf20)"
      ],
      "metadata": {
        "colab": {
          "base_uri": "https://localhost:8080/"
        },
        "id": "UNwBvyNLmBhF",
        "outputId": "67f852fb-336f-4de5-e790-ddfa70401b0b"
      },
      "execution_count": null,
      "outputs": [
        {
          "output_type": "stream",
          "name": "stdout",
          "text": [
            "          Date  NY State  Albany  Batavia  Binghamton  Buffalo  Dutchess  \\\n",
            "121 2020-01-13      2.73    2.68     2.67        2.71     2.65      2.78   \n",
            "120 2020-01-20      2.72    2.67     2.66        2.69     2.63      2.77   \n",
            "117 2020-02-10      2.64    2.62     2.63        2.58     2.58      2.72   \n",
            "116 2020-02-17      2.62    2.61     2.61        2.54     2.56      2.70   \n",
            "113 2020-03-09      2.58    2.56     2.58        2.49     2.52      2.66   \n",
            "112 2020-03-16      2.52    2.52     2.52        2.45     2.48      2.62   \n",
            "108 2020-04-13      2.27    2.23     2.33        2.29     2.32      2.37   \n",
            "107 2020-04-20      2.24    2.19     2.30        2.26     2.28      2.34   \n",
            "104 2020-05-11      2.16    2.09     2.22        2.16     2.21      2.24   \n",
            "103 2020-05-18      2.16    2.10     2.22        2.17     2.20      2.25   \n",
            "99  2020-06-15      2.22    2.19     2.24        2.16     2.19      2.28   \n",
            "98  2020-06-22      2.22    2.20     2.25        2.17     2.19      2.29   \n",
            "95  2020-07-13      2.25    2.27     2.24        2.18     2.19      2.32   \n",
            "94  2020-07-20      2.26    2.29     2.23        2.19     2.20      2.33   \n",
            "91  2020-08-10      2.26    2.28     2.23        2.17     2.19      2.33   \n",
            "90  2020-08-17      2.25    2.27     2.22        2.17     2.19      2.32   \n",
            "86  2020-09-14      2.29    2.31     2.22        2.21     2.25      2.34   \n",
            "85  2020-09-21      2.28    2.29     2.21        2.19     2.24      2.33   \n",
            "82  2020-10-12      2.26    2.26     2.21        2.16     2.23      2.32   \n",
            "81  2020-10-19      2.25    2.26     2.20        2.17     2.22      2.32   \n",
            "78  2020-11-09      2.22    2.23     2.19        2.13     2.19      2.30   \n",
            "77  2020-11-16      2.22    2.24     2.19        2.13     2.19      2.30   \n",
            "73  2020-12-14      2.26    2.27     2.22        2.23     2.19      2.30   \n",
            "72  2020-12-21      2.28    2.28     2.22        2.23     2.22      2.31   \n",
            "\n",
            "     Elmira  Glens Falls  Ithaca  Kingston  Nassau   NYC  Rochester  Syracuse  \\\n",
            "121    2.63         2.69    2.70      2.70    2.70  2.79       2.69      2.64   \n",
            "120    2.61         2.69    2.69      2.69    2.69  2.78       2.68      2.62   \n",
            "117    2.50         2.64    2.65      2.59    2.58  2.70       2.60      2.52   \n",
            "116    2.49         2.63    2.64      2.55    2.55  2.67       2.58      2.50   \n",
            "113    2.37         2.60    2.60      2.52    2.50  2.63       2.54      2.49   \n",
            "112    2.31         2.55    2.56      2.48    2.44  2.57       2.48      2.43   \n",
            "108    1.99         2.22    2.29      2.25    2.21  2.37       2.25      2.21   \n",
            "107    1.97         2.18    2.26      2.21    2.16  2.34       2.23      2.16   \n",
            "104    1.94         2.09    2.13      2.10    2.06  2.27       2.19      2.06   \n",
            "103    1.95         2.11    2.12      2.09    2.09  2.26       2.19      2.06   \n",
            "99     2.02         2.23    2.13      2.13    2.16  2.31       2.21      2.11   \n",
            "98     2.03         2.25    2.13      2.13    2.16  2.32       2.21      2.12   \n",
            "95     2.10         2.33    2.16      2.17    2.19  2.33       2.21      2.16   \n",
            "94     2.13         2.35    2.18      2.18    2.20  2.33       2.22      2.19   \n",
            "91     2.13         2.34    2.18      2.18    2.19  2.32       2.22      2.19   \n",
            "90     2.12         2.33    2.18      2.17    2.19  2.31       2.22      2.18   \n",
            "86     2.19         2.36    2.21      2.23    2.22  2.32       2.27      2.23   \n",
            "85     2.18         2.36    2.21      2.22    2.20  2.31       2.26      2.22   \n",
            "82     2.18         2.34    2.18      2.16    2.18  2.29       2.24      2.19   \n",
            "81     2.17         2.34    2.18      2.16    2.18  2.28       2.24      2.18   \n",
            "78     2.15         2.30    2.17      2.14    2.14  2.23       2.22      2.15   \n",
            "77     2.17         2.32    2.19      2.14    2.14  2.23       2.23      2.15   \n",
            "73     2.17         2.35    2.24      2.23    2.19  2.26       2.23      2.19   \n",
            "72     2.18         2.35    2.25      2.24    2.24  2.30       2.26      2.24   \n",
            "\n",
            "     Utica  Watertown  White Plains  \n",
            "121   2.70       2.72          2.85  \n",
            "120   2.69       2.71          2.85  \n",
            "117   2.63       2.65          2.78  \n",
            "116   2.62       2.63          2.76  \n",
            "113   2.60       2.56          2.72  \n",
            "112   2.55       2.51          2.67  \n",
            "108   2.26       2.27          2.43  \n",
            "107   2.22       2.21          2.40  \n",
            "104   2.11       2.12          2.32  \n",
            "103   2.12       2.13          2.32  \n",
            "99    2.23       2.22          2.35  \n",
            "98    2.25       2.23          2.36  \n",
            "95    2.27       2.28          2.39  \n",
            "94    2.29       2.28          2.39  \n",
            "91    2.29       2.28          2.38  \n",
            "90    2.29       2.28          2.38  \n",
            "86    2.32       2.33          2.40  \n",
            "85    2.32       2.32          2.39  \n",
            "82    2.31       2.30          2.37  \n",
            "81    2.31       2.30          2.37  \n",
            "78    2.30       2.29          2.34  \n",
            "77    2.31       2.28          2.33  \n",
            "73    2.33       2.30          2.37  \n",
            "72    2.34       2.32          2.37  \n"
          ]
        }
      ]
    },
    {
      "cell_type": "code",
      "source": [
        "newdf19 =(df['Date'] >= '01-01-2019')& (df['Date'] <= '12-31-2019')\n",
        "newdf19 = df.loc[newdf19]\n",
        "print(newdf19)"
      ],
      "metadata": {
        "colab": {
          "base_uri": "https://localhost:8080/"
        },
        "id": "EJLRdxv4mImA",
        "outputId": "b3396123-0a9b-42d0-bafc-b743062e5a9b"
      },
      "execution_count": null,
      "outputs": [
        {
          "output_type": "stream",
          "name": "stdout",
          "text": [
            "          Date  NY State  Albany  Batavia  Binghamton  Buffalo  Dutchess  \\\n",
            "173 2019-01-14      2.56    2.45     2.61        2.45     2.61      2.70   \n",
            "172 2019-01-21      2.54    2.43     2.56        2.42     2.58      2.67   \n",
            "169 2019-02-11      2.48    2.39     2.49        2.38     2.52      2.61   \n",
            "168 2019-02-18      2.47    2.38     2.45        2.36     2.51      2.59   \n",
            "165 2019-03-11      2.57    2.47     2.49        2.59     2.51      2.61   \n",
            "164 2019-03-18      2.63    2.52     2.55        2.65     2.56      2.66   \n",
            "161 2019-04-08      2.75    2.64     2.69        2.73     2.67      2.76   \n",
            "160 2019-04-15      2.80    2.67     2.75        2.77     2.73      2.81   \n",
            "156 2019-05-13      2.97    2.83     2.84        2.90     2.89      3.02   \n",
            "155 2019-05-20      2.96    2.82     2.84        2.88     2.89      3.02   \n",
            "152 2019-06-10      2.91    2.77     2.84        2.82     2.88      2.97   \n",
            "151 2019-06-17      2.88    2.74     2.82        2.78     2.86      2.94   \n",
            "147 2019-07-15      2.88    2.75     2.84        2.82     2.85      2.94   \n",
            "146 2019-07-22      2.89    2.76     2.84        2.84     2.85      2.95   \n",
            "143 2019-08-12      2.85    2.72     2.82        2.75     2.81      2.91   \n",
            "142 2019-08-19      2.83    2.70     2.79        2.71     2.79      2.88   \n",
            "139 2019-09-09      2.75    2.66     2.73        2.62     2.73      2.82   \n",
            "138 2019-09-16      2.73    2.65     2.70        2.60     2.71      2.81   \n",
            "134 2019-10-14      2.71    2.64     2.68        2.66     2.67      2.76   \n",
            "133 2019-10-21      2.70    2.64     2.68        2.66     2.66      2.75   \n",
            "130 2019-11-11      2.70    2.63     2.66        2.63     2.64      2.75   \n",
            "129 2019-11-18      2.69    2.63     2.65        2.62     2.63      2.75   \n",
            "125 2019-12-16      2.68    2.61     2.65        2.61     2.61      2.75   \n",
            "124 2019-12-23      2.68    2.62     2.65        2.60     2.60      2.75   \n",
            "\n",
            "     Elmira  Glens Falls  Ithaca  Kingston  Nassau   NYC  Rochester  Syracuse  \\\n",
            "173    2.33         2.49    2.42      2.47    2.50  2.64       2.53      2.44   \n",
            "172    2.33         2.47    2.40      2.45    2.47  2.61       2.50      2.42   \n",
            "169    2.33         2.42    2.36      2.39    2.41  2.55       2.43      2.37   \n",
            "168    2.33         2.40    2.36      2.38    2.41  2.54       2.42      2.37   \n",
            "165    2.57         2.49    2.57      2.50    2.55  2.64       2.56      2.55   \n",
            "164    2.63         2.54    2.64      2.59    2.64  2.70       2.61      2.61   \n",
            "161    2.68         2.66    2.72      2.69    2.76  2.85       2.73      2.71   \n",
            "160    2.72         2.69    2.77      2.73    2.81  2.91       2.77      2.76   \n",
            "156    2.85         2.84    2.89      2.90    3.02  3.09       2.90      2.88   \n",
            "155    2.84         2.83    2.88      2.88    3.01  3.07       2.89      2.87   \n",
            "152    2.79         2.80    2.85      2.82    2.94  3.02       2.85      2.82   \n",
            "151    2.75         2.78    2.81      2.80    2.90  2.98       2.82      2.78   \n",
            "147    2.77         2.79    2.82      2.79    2.89  2.99       2.84      2.79   \n",
            "146    2.80         2.81    2.84      2.80    2.90  3.01       2.84      2.80   \n",
            "143    2.75         2.78    2.78      2.74    2.85  2.98       2.81      2.74   \n",
            "142    2.74         2.77    2.75      2.72    2.82  2.95       2.78      2.71   \n",
            "139    2.74         2.75    2.65      2.65    2.70  2.86       2.72      2.62   \n",
            "138    2.73         2.74    2.62      2.62    2.67  2.83       2.70      2.59   \n",
            "134    2.69         2.72    2.67      2.59    2.65  2.79       2.70      2.60   \n",
            "133    2.69         2.71    2.66      2.58    2.64  2.78       2.68      2.59   \n",
            "130    2.69         2.69    2.67      2.61    2.66  2.77       2.68      2.60   \n",
            "129    2.69         2.67    2.66      2.62    2.66  2.76       2.67      2.59   \n",
            "125    2.68         2.63    2.66      2.59    2.63  2.75       2.66      2.58   \n",
            "124    2.67         2.63    2.66      2.60    2.64  2.76       2.65      2.59   \n",
            "\n",
            "     Utica  Watertown  White Plains  \n",
            "173   2.54       2.58          2.75  \n",
            "172   2.51       2.53          2.74  \n",
            "169   2.45       2.46          2.69  \n",
            "168   2.44       2.44          2.67  \n",
            "165   2.57       2.57          2.71  \n",
            "164   2.62       2.63          2.75  \n",
            "161   2.73       2.76          2.85  \n",
            "160   2.78       2.81          2.90  \n",
            "156   2.90       2.96          3.10  \n",
            "155   2.90       2.96          3.09  \n",
            "152   2.86       2.91          3.05  \n",
            "151   2.84       2.84          3.02  \n",
            "147   2.84       2.81          3.02  \n",
            "146   2.85       2.82          3.03  \n",
            "143   2.83       2.78          3.00  \n",
            "142   2.81       2.76          2.98  \n",
            "139   2.74       2.71          2.91  \n",
            "138   2.73       2.69          2.88  \n",
            "134   2.71       2.67          2.84  \n",
            "133   2.69       2.66          2.83  \n",
            "130   2.66       2.66          2.83  \n",
            "129   2.63       2.66          2.83  \n",
            "125   2.61       2.66          2.82  \n",
            "124   2.62       2.67          2.83  \n"
          ]
        }
      ]
    },
    {
      "cell_type": "code",
      "source": [
        "newdf18 =(df['Date'] >= '01-01-2018')& (df['Date'] <= '12-31-2018')\n",
        "newdf18 = df.loc[newdf18]\n",
        "print(newdf18)"
      ],
      "metadata": {
        "colab": {
          "base_uri": "https://localhost:8080/"
        },
        "id": "eNNH8DwdmQo8",
        "outputId": "867cb49c-d785-4a4f-c8b0-d1aa251f75cf"
      },
      "execution_count": null,
      "outputs": [
        {
          "output_type": "stream",
          "name": "stdout",
          "text": [
            "          Date  NY State  Albany  Batavia  Binghamton  Buffalo  Dutchess  \\\n",
            "225 2018-01-15      2.67    2.59     2.61        2.63     2.63      2.69   \n",
            "224 2018-01-22      2.69    2.60     2.61        2.65     2.64      2.70   \n",
            "221 2018-02-12      2.77    2.68     2.69        2.75     2.69      2.77   \n",
            "220 2018-02-19      2.75    2.66     2.67        2.72     2.68      2.76   \n",
            "217 2018-03-12      2.70    2.61     2.66        2.69     2.67      2.72   \n",
            "216 2018-03-19      2.69    2.60     2.65        2.68     2.66      2.72   \n",
            "213 2018-04-09      2.77    2.68     2.69        2.74     2.71      2.78   \n",
            "212 2018-04-16      2.79    2.70     2.71        2.77     2.73      2.81   \n",
            "209 2018-05-07      2.95    2.84     2.86        2.92     2.86      2.98   \n",
            "208 2018-05-14      2.98    2.87     2.88        2.94     2.89      3.01   \n",
            "205 2018-06-04      3.09    3.01     3.00        3.01     3.01      3.13   \n",
            "204 2018-06-11      3.08    2.99     3.00        3.00     3.02      3.12   \n",
            "200 2018-07-09      3.02    2.92     2.97        2.97     3.00      3.07   \n",
            "199 2018-07-16      3.02    2.91     2.97        2.95     3.00      3.07   \n",
            "195 2018-08-13      3.01    2.89     2.97        2.95     3.00      3.05   \n",
            "194 2018-08-20      3.00    2.88     2.96        2.94     2.99      3.05   \n",
            "191 2018-09-10      3.00    2.89     2.96        2.93     2.99      3.04   \n",
            "190 2018-09-17      3.00    2.88     2.96        2.93     2.99      3.04   \n",
            "186 2018-10-15      3.01    2.89     2.94        2.96     3.00      3.03   \n",
            "185 2018-10-22      2.99    2.87     2.95        2.94     2.99      3.02   \n",
            "182 2018-11-12      2.92    2.80     2.92        2.89     2.97      2.98   \n",
            "181 2018-11-19      2.88    2.75     2.91        2.84     2.95      2.95   \n",
            "178 2018-12-10      2.76    2.62     2.81        2.69     2.86      2.86   \n",
            "177 2018-12-17      2.72    2.59     2.77        2.65     2.80      2.83   \n",
            "\n",
            "     Elmira  Glens Falls  Ithaca  Kingston  Nassau   NYC  Rochester  Syracuse  \\\n",
            "225    2.61         2.64    2.64      2.60    2.66  2.75       2.62      2.61   \n",
            "224    2.63         2.64    2.65      2.62    2.69  2.78       2.63      2.62   \n",
            "221    2.73         2.71    2.73      2.71    2.78  2.85       2.71      2.72   \n",
            "220    2.70         2.69    2.72      2.69    2.76  2.82       2.69      2.69   \n",
            "217    2.65         2.62    2.66      2.61    2.69  2.77       2.65      2.62   \n",
            "216    2.64         2.60    2.65      2.60    2.68  2.76       2.63      2.61   \n",
            "213    2.70         2.68    2.73      2.73    2.79  2.86       2.71      2.71   \n",
            "212    2.75         2.72    2.75      2.76    2.81  2.88       2.73      2.74   \n",
            "209    2.88         2.85    2.91      2.89    2.99  3.05       2.88      2.92   \n",
            "208    2.91         2.88    2.92      2.91    3.01  3.08       2.91      2.95   \n",
            "205    2.98         3.04    3.01      3.00    3.12  3.21       3.03      3.04   \n",
            "204    2.96         3.03    2.99      2.98    3.10  3.19       3.02      3.01   \n",
            "200    2.93         2.95    2.91      2.90    3.03  3.12       2.98      2.92   \n",
            "199    2.92         2.93    2.92      2.91    3.03  3.11       2.97      2.92   \n",
            "195    2.96         2.91    2.95      2.90    3.01  3.10       2.96      2.93   \n",
            "194    2.95         2.90    2.94      2.89    3.00  3.11       2.94      2.92   \n",
            "191    2.95         2.90    2.93      2.89    2.98  3.09       2.95      2.93   \n",
            "190    2.95         2.89    2.93      2.89    2.99  3.10       2.96      2.93   \n",
            "186    2.95         2.91    2.96      2.93    2.99  3.10       2.97      2.94   \n",
            "185    2.93         2.89    2.94      2.92    2.98  3.09       2.95      2.91   \n",
            "182    2.88         2.83    2.82      2.84    2.88  2.98       2.89      2.82   \n",
            "181    2.79         2.80    2.76      2.80    2.83  2.94       2.85      2.77   \n",
            "178    2.66         2.70    2.63      2.63    2.70  2.81       2.74      2.64   \n",
            "177    2.63         2.66    2.58      2.60    2.67  2.78       2.69      2.60   \n",
            "\n",
            "     Utica  Watertown  White Plains  \n",
            "225   2.65       2.68          2.79  \n",
            "224   2.66       2.69          2.81  \n",
            "221   2.76       2.79          2.86  \n",
            "220   2.75       2.78          2.85  \n",
            "217   2.71       2.72          2.82  \n",
            "216   2.70       2.71          2.82  \n",
            "213   2.74       2.78          2.87  \n",
            "212   2.76       2.79          2.89  \n",
            "209   2.94       2.96          3.06  \n",
            "208   2.97       2.98          3.09  \n",
            "205   3.08       3.12          3.21  \n",
            "204   3.07       3.11          3.21  \n",
            "200   2.98       3.05          3.17  \n",
            "199   2.98       3.06          3.17  \n",
            "195   2.97       3.06          3.15  \n",
            "194   2.97       3.04          3.15  \n",
            "191   2.95       3.03          3.14  \n",
            "190   2.94       3.03          3.14  \n",
            "186   2.97       3.03          3.14  \n",
            "185   2.94       3.02          3.13  \n",
            "182   2.89       2.98          3.07  \n",
            "181   2.85       2.95          3.03  \n",
            "178   2.75       2.87          2.92  \n",
            "177   2.71       2.86          2.89  \n"
          ]
        }
      ]
    },
    {
      "cell_type": "code",
      "source": [
        "#getting rid of the time of date/time\n",
        "df['Date'] = df['Date'].dt.date\n",
        "newdf18['Date'] = newdf18['Date'].dt.date\n",
        "newdf19['Date'] = newdf19['Date'].dt.date\n",
        "newdf20['Date'] = newdf20['Date'].dt.date\n",
        "newdf21['Date'] = newdf21['Date'].dt.date\n",
        "newdf22['Date'] = newdf22['Date'].dt.date"
      ],
      "metadata": {
        "colab": {
          "base_uri": "https://localhost:8080/"
        },
        "id": "w_XmYGIpvkAH",
        "outputId": "47de32d4-3da0-4b79-9426-ac6038df5309"
      },
      "execution_count": null,
      "outputs": [
        {
          "output_type": "stream",
          "name": "stderr",
          "text": [
            "/usr/local/lib/python3.7/dist-packages/ipykernel_launcher.py:3: SettingWithCopyWarning: \n",
            "A value is trying to be set on a copy of a slice from a DataFrame.\n",
            "Try using .loc[row_indexer,col_indexer] = value instead\n",
            "\n",
            "See the caveats in the documentation: https://pandas.pydata.org/pandas-docs/stable/user_guide/indexing.html#returning-a-view-versus-a-copy\n",
            "  This is separate from the ipykernel package so we can avoid doing imports until\n",
            "/usr/local/lib/python3.7/dist-packages/ipykernel_launcher.py:4: SettingWithCopyWarning: \n",
            "A value is trying to be set on a copy of a slice from a DataFrame.\n",
            "Try using .loc[row_indexer,col_indexer] = value instead\n",
            "\n",
            "See the caveats in the documentation: https://pandas.pydata.org/pandas-docs/stable/user_guide/indexing.html#returning-a-view-versus-a-copy\n",
            "  after removing the cwd from sys.path.\n",
            "/usr/local/lib/python3.7/dist-packages/ipykernel_launcher.py:5: SettingWithCopyWarning: \n",
            "A value is trying to be set on a copy of a slice from a DataFrame.\n",
            "Try using .loc[row_indexer,col_indexer] = value instead\n",
            "\n",
            "See the caveats in the documentation: https://pandas.pydata.org/pandas-docs/stable/user_guide/indexing.html#returning-a-view-versus-a-copy\n",
            "  \"\"\"\n",
            "/usr/local/lib/python3.7/dist-packages/ipykernel_launcher.py:6: SettingWithCopyWarning: \n",
            "A value is trying to be set on a copy of a slice from a DataFrame.\n",
            "Try using .loc[row_indexer,col_indexer] = value instead\n",
            "\n",
            "See the caveats in the documentation: https://pandas.pydata.org/pandas-docs/stable/user_guide/indexing.html#returning-a-view-versus-a-copy\n",
            "  \n",
            "/usr/local/lib/python3.7/dist-packages/ipykernel_launcher.py:7: SettingWithCopyWarning: \n",
            "A value is trying to be set on a copy of a slice from a DataFrame.\n",
            "Try using .loc[row_indexer,col_indexer] = value instead\n",
            "\n",
            "See the caveats in the documentation: https://pandas.pydata.org/pandas-docs/stable/user_guide/indexing.html#returning-a-view-versus-a-copy\n",
            "  import sys\n"
          ]
        }
      ]
    },
    {
      "cell_type": "code",
      "source": [
        "#comparing years "
      ],
      "metadata": {
        "id": "ykZqibd34QZy"
      },
      "execution_count": null,
      "outputs": []
    },
    {
      "cell_type": "code",
      "source": [
        "newdf18.plot(x=\"Date\", y=[\"Albany\", \"Batavia\", \"Binghamton\", \"Buffalo\", \"Dutchess\", \"Elmira\", \"Glens Falls\", \"Ithaca\", \"Kingston\", \"Nassau\", \"NYC\", \"Rochester\", \"Utica\", \"Watertown\", \"White Plains\"], kind=\"bar\")\n",
        "plt.title('NYS 2018 Gas Prices', fontsize=16, color=\"darkslateblue\")\n",
        "plt.xlabel('Dates', fontsize=13, color=\"lightsteelblue\")\n",
        "plt.ylabel('Price Per Gallon', fontsize=13, color=\"lightsteelblue\")"
      ],
      "metadata": {
        "colab": {
          "base_uri": "https://localhost:8080/",
          "height": 365
        },
        "id": "FD8faeNcwreR",
        "outputId": "4e29c4a2-635c-4fcd-a4e4-643d09f76fa2"
      },
      "execution_count": null,
      "outputs": [
        {
          "output_type": "execute_result",
          "data": {
            "text/plain": [
              "Text(0, 0.5, 'Price Per Gallon')"
            ]
          },
          "metadata": {},
          "execution_count": 92
        },
        {
          "output_type": "display_data",
          "data": {
            "text/plain": [
              "<Figure size 432x288 with 1 Axes>"
            ],
            "image/png": "[encoded data removed]"
          },
          "metadata": {
            "needs_background": "light"
          }
        }
      ]
    },
    {
      "cell_type": "code",
      "source": [
        "newdf19.plot(x=\"Date\", y=[\"Albany\", \"Batavia\", \"Binghamton\", \"Buffalo\", \"Dutchess\", \"Elmira\", \"Glens Falls\", \"Ithaca\", \"Kingston\", \"Nassau\", \"NYC\", \"Rochester\", \"Utica\", \"Watertown\", \"White Plains\"], kind=\"bar\")\n",
        "plt.title('NYS 2019 Gas Prices', fontsize=16, color=\"darkslateblue\")\n",
        "plt.xlabel('Dates', fontsize=13, color=\"lightsteelblue\")\n",
        "plt.ylabel('Price Per Gallon', fontsize=13, color=\"lightsteelblue\")"
      ],
      "metadata": {
        "colab": {
          "base_uri": "https://localhost:8080/",
          "height": 365
        },
        "id": "C5b8Fi1Y3WCe",
        "outputId": "7cbed2fd-541c-4ece-ac8f-b44f39bc4467"
      },
      "execution_count": null,
      "outputs": [
        {
          "output_type": "execute_result",
          "data": {
            "text/plain": [
              "Text(0, 0.5, 'Price Per Gallon')"
            ]
          },
          "metadata": {},
          "execution_count": 93
        },
        {
          "output_type": "display_data",
          "data": {
            "text/plain": [
              "<Figure size 432x288 with 1 Axes>"
            ],
            "image/png": "[encoded data removed]"
          },
          "metadata": {
            "needs_background": "light"
          }
        }
      ]
    },
    {
      "cell_type": "code",
      "source": [
        "newdf20.plot(x=\"Date\", y=[\"Albany\", \"Batavia\", \"Binghamton\", \"Buffalo\", \"Dutchess\", \"Elmira\", \"Glens Falls\", \"Ithaca\", \"Kingston\", \"Nassau\", \"NYC\", \"Rochester\", \"Utica\", \"Watertown\", \"White Plains\"], kind=\"bar\")\n",
        "plt.title('NYS 2020 Gas Prices', fontsize=16, color=\"darkslateblue\")\n",
        "plt.xlabel('Dates', fontsize=13, color=\"lightsteelblue\")\n",
        "plt.ylabel('Price Per Gallon', fontsize=13, color=\"lightsteelblue\")"
      ],
      "metadata": {
        "colab": {
          "base_uri": "https://localhost:8080/",
          "height": 365
        },
        "id": "8wV990fT3e2a",
        "outputId": "a8da7532-5e9c-4eb0-e2be-2378debca50f"
      },
      "execution_count": null,
      "outputs": [
        {
          "output_type": "execute_result",
          "data": {
            "text/plain": [
              "Text(0, 0.5, 'Price Per Gallon')"
            ]
          },
          "metadata": {},
          "execution_count": 94
        },
        {
          "output_type": "display_data",
          "data": {
            "text/plain": [
              "<Figure size 432x288 with 1 Axes>"
            ],
            "image/png": "[encoded data removed]"
          },
          "metadata": {
            "needs_background": "light"
          }
        }
      ]
    },
    {
      "cell_type": "code",
      "source": [
        "newdf21.plot(x=\"Date\", y=[\"Albany\", \"Batavia\", \"Binghamton\", \"Buffalo\", \"Dutchess\", \"Elmira\", \"Glens Falls\", \"Ithaca\", \"Kingston\", \"Nassau\", \"NYC\", \"Rochester\", \"Utica\", \"Watertown\", \"White Plains\"], kind=\"bar\")\n",
        "plt.title('NYS 2021 Gas Prices', fontsize=16, color=\"darkslateblue\")\n",
        "plt.xlabel('Dates', fontsize=13, color=\"lightsteelblue\")\n",
        "plt.ylabel('Price Per Gallon', fontsize=13, color=\"lightsteelblue\")"
      ],
      "metadata": {
        "colab": {
          "base_uri": "https://localhost:8080/",
          "height": 365
        },
        "id": "YMMQC4803oEX",
        "outputId": "c2063364-12dc-464d-870e-beb3ec485b18"
      },
      "execution_count": null,
      "outputs": [
        {
          "output_type": "execute_result",
          "data": {
            "text/plain": [
              "Text(0, 0.5, 'Price Per Gallon')"
            ]
          },
          "metadata": {},
          "execution_count": 95
        },
        {
          "output_type": "display_data",
          "data": {
            "text/plain": [
              "<Figure size 432x288 with 1 Axes>"
            ],
            "image/png": "[encoded data removed]"
          },
          "metadata": {
            "needs_background": "light"
          }
        }
      ]
    },
    {
      "cell_type": "code",
      "source": [
        "plt.scatter(dfcapregion['Glens Falls'], dfcentralny['Syracuse'], dffingerlakes['Rochester'], dfmidhudson['Kingston'])\n",
        "plt.title('NYS 2019 Gas Prices for various Regions', fontsize=16, color=\"darkslateblue\")\n",
        "plt.xlabel('Dates', fontsize=13, color=\"lightsteelblue\")\n",
        "plt.ylabel('Price Per Gallon', fontsize=13, color=\"lightsteelblue\")\n",
        "plt.show()"
      ],
      "metadata": {
        "colab": {
          "base_uri": "https://localhost:8080/",
          "height": 300
        },
        "id": "xAYVEXApQB2v",
        "outputId": "4a8a7251-fe59-4d64-f51b-46d37a00ad9d"
      },
      "execution_count": null,
      "outputs": [
        {
          "output_type": "display_data",
          "data": {
            "text/plain": [
              "<Figure size 432x288 with 1 Axes>"
            ],
            "image/png": "[encoded data removed]"
          },
          "metadata": {
            "needs_background": "light"
          }
        }
      ]
    },
    {
      "cell_type": "code",
      "source": [
        "newdf18.plot.bar(x='Date', stacked=True, title=\"Gas Prices\")\n",
        "plt.show"
      ],
      "metadata": {
        "colab": {
          "base_uri": "https://localhost:8080/",
          "height": 360
        },
        "id": "OePkoiiwSAO1",
        "outputId": "b45a6d7c-00f9-4c0a-dda7-ad644f8c8e02"
      },
      "execution_count": null,
      "outputs": [
        {
          "output_type": "execute_result",
          "data": {
            "text/plain": [
              "<function matplotlib.pyplot.show>"
            ]
          },
          "metadata": {},
          "execution_count": 97
        },
        {
          "output_type": "display_data",
          "data": {
            "text/plain": [
              "<Figure size 432x288 with 1 Axes>"
            ],
            "image/png": "[encoded data removed]"
          },
          "metadata": {
            "needs_background": "light"
          }
        }
      ]
    },
    {
      "cell_type": "code",
      "source": [
        "newdf19.plot.bar(x='Date', stacked=True, title=\"Gas Prices\")\n",
        "plt.show"
      ],
      "metadata": {
        "colab": {
          "base_uri": "https://localhost:8080/",
          "height": 360
        },
        "id": "uiD-Vn1XSwZw",
        "outputId": "5a449edf-b0d2-48fa-e8cb-f97992fca588"
      },
      "execution_count": null,
      "outputs": [
        {
          "output_type": "execute_result",
          "data": {
            "text/plain": [
              "<function matplotlib.pyplot.show>"
            ]
          },
          "metadata": {},
          "execution_count": 98
        },
        {
          "output_type": "display_data",
          "data": {
            "text/plain": [
              "<Figure size 432x288 with 1 Axes>"
            ],
            "image/png": "[encoded data removed]"
          },
          "metadata": {
            "needs_background": "light"
          }
        }
      ]
    },
    {
      "cell_type": "code",
      "source": [
        "newdf20.plot.bar(x='Date', stacked=True, title=\"Gas Prices\")\n",
        "plt.show"
      ],
      "metadata": {
        "colab": {
          "base_uri": "https://localhost:8080/",
          "height": 360
        },
        "id": "uOy4nzAaS1uT",
        "outputId": "c401019f-ab94-4f3f-9009-868af50ed66e"
      },
      "execution_count": null,
      "outputs": [
        {
          "output_type": "execute_result",
          "data": {
            "text/plain": [
              "<function matplotlib.pyplot.show>"
            ]
          },
          "metadata": {},
          "execution_count": 99
        },
        {
          "output_type": "display_data",
          "data": {
            "text/plain": [
              "<Figure size 432x288 with 1 Axes>"
            ],
            "image/png": "[encoded data removed]"
          },
          "metadata": {
            "needs_background": "light"
          }
        }
      ]
    },
    {
      "cell_type": "code",
      "source": [
        "newdf21.plot.bar(x='Date', stacked=True, title=\"Gas Prices\")\n",
        "plt.show"
      ],
      "metadata": {
        "colab": {
          "base_uri": "https://localhost:8080/",
          "height": 360
        },
        "id": "5ru82DMoS5qt",
        "outputId": "446a39e9-81fe-4e44-a94d-3f070fe63af8"
      },
      "execution_count": null,
      "outputs": [
        {
          "output_type": "execute_result",
          "data": {
            "text/plain": [
              "<function matplotlib.pyplot.show>"
            ]
          },
          "metadata": {},
          "execution_count": 100
        },
        {
          "output_type": "display_data",
          "data": {
            "text/plain": [
              "<Figure size 432x288 with 1 Axes>"
            ],
            "image/png": "[encoded data removed]"
          },
          "metadata": {
            "needs_background": "light"
          }
        }
      ]
    },
    {
      "cell_type": "code",
      "source": [
        "df.plot.bar(x='Date', stacked=True, title=\"Gas Prices\")\n",
        "plt.show"
      ],
      "metadata": {
        "colab": {
          "base_uri": "https://localhost:8080/",
          "height": 360
        },
        "id": "_xdyUgZbTM_W",
        "outputId": "2e86b945-d5b5-4d35-87cb-8de16120f72b"
      },
      "execution_count": null,
      "outputs": [
        {
          "output_type": "execute_result",
          "data": {
            "text/plain": [
              "<function matplotlib.pyplot.show>"
            ]
          },
          "metadata": {},
          "execution_count": 101
        },
        {
          "output_type": "display_data",
          "data": {
            "text/plain": [
              "<Figure size 432x288 with 1 Axes>"
            ],
            "image/png": "[encoded data removed]"
          },
          "metadata": {
            "needs_background": "light"
          }
        }
      ]
    },
    {
      "cell_type": "code",
      "source": [
        "df.plot.bar('Date', 'NY State')\n",
        "plt.title('NYS 2019 Gas Prices', fontsize=16, color=\"mediumblue\")\n",
        "plt.xlabel('Dates', fontsize=13, color=\"dimgrey\")\n",
        "plt.ylabel('Price Per Gallon', fontsize=13, color=\"dimgrey\")"
      ],
      "metadata": {
        "colab": {
          "base_uri": "https://localhost:8080/",
          "height": 365
        },
        "id": "eK0zoGWvTTxR",
        "outputId": "484786b5-2ba1-4515-bbd1-4e51a3c3076e"
      },
      "execution_count": null,
      "outputs": [
        {
          "output_type": "execute_result",
          "data": {
            "text/plain": [
              "Text(0, 0.5, 'Price Per Gallon')"
            ]
          },
          "metadata": {},
          "execution_count": 102
        },
        {
          "output_type": "display_data",
          "data": {
            "text/plain": [
              "<Figure size 432x288 with 1 Axes>"
            ],
            "image/png": "[encoded data removed]"
          },
          "metadata": {
            "needs_background": "light"
          }
        }
      ]
    },
    {
      "cell_type": "code",
      "source": [
        "sns.lineplot(data=df, x='Date', y=\"NY State\")\n",
        "plt.title('NYS Average Weekly Gas Prices', fontsize=16)\n",
        "plt.xlabel('Date', fontsize=13)\n",
        "plt.ylabel('Price Per Gallon', fontsize=13)\n",
        "\n"
      ],
      "metadata": {
        "colab": {
          "base_uri": "https://localhost:8080/",
          "height": 317
        },
        "id": "IeQXZpseZqUV",
        "outputId": "8c5bdd23-6850-4d18-c26a-34bf3b2fa63b"
      },
      "execution_count": null,
      "outputs": [
        {
          "output_type": "execute_result",
          "data": {
            "text/plain": [
              "Text(0, 0.5, 'Price Per Gallon')"
            ]
          },
          "metadata": {},
          "execution_count": 109
        },
        {
          "output_type": "display_data",
          "data": {
            "text/plain": [
              "<Figure size 432x288 with 1 Axes>"
            ],
            "image/png": "[encoded data removed]"
          },
          "metadata": {
            "needs_background": "light"
          }
        }
      ]
    }
  ]
}